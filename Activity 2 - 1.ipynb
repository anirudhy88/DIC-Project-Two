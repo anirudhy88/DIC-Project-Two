{
 "cells": [
  {
   "cell_type": "code",
   "execution_count": 305,
   "metadata": {
    "collapsed": false
   },
   "outputs": [],
   "source": [
    "library(\"dplyr\")"
   ]
  },
  {
   "cell_type": "code",
   "execution_count": 306,
   "metadata": {
    "collapsed": true
   },
   "outputs": [],
   "source": [
    "my_db <- src_sqlite(path = \"database.sqlite\", create = FALSE)"
   ]
  },
  {
   "cell_type": "markdown",
   "metadata": {},
   "source": [
    "Let's get all the tables present in the database and print it out"
   ]
  },
  {
   "cell_type": "code",
   "execution_count": 307,
   "metadata": {
    "collapsed": false
   },
   "outputs": [
    {
     "data": {
      "text/plain": [
       "src:  sqlite 3.11.1 [database.sqlite]\n",
       "tbls: Country, League, Match, Player, Player_Attributes, sqlite_sequence, Team,\n",
       "  Team_Attributes"
      ]
     },
     "metadata": {},
     "output_type": "display_data"
    }
   ],
   "source": [
    "my_db"
   ]
  },
  {
   "cell_type": "code",
   "execution_count": 308,
   "metadata": {
    "collapsed": true
   },
   "outputs": [],
   "source": [
    "player_table <- tbl(my_db, \"Player\")"
   ]
  },
  {
   "cell_type": "code",
   "execution_count": 309,
   "metadata": {
    "collapsed": false
   },
   "outputs": [
    {
     "data": {
      "text/plain": [
       "Source:   query [?? x 7]\n",
       "Database: sqlite 3.11.1 [database.sqlite]\n",
       "\n",
       "      id player_api_id        player_name player_fifa_api_id\n",
       "   <int>         <int>              <chr>              <int>\n",
       "1      1        505942 Aaron Appindangoye             218353\n",
       "2      2        155782    Aaron Cresswell             189615\n",
       "3      3        162549        Aaron Doran             186170\n",
       "4      4         30572      Aaron Galindo             140161\n",
       "5      5         23780       Aaron Hughes              17725\n",
       "6      6         27316         Aaron Hunt             158138\n",
       "7      7        564793         Aaron Kuhl             221280\n",
       "8      8         30895       Aaron Lennon             152747\n",
       "9      9        528212       Aaron Lennox             206592\n",
       "10    10        101042      Aaron Meijers             188621\n",
       "# ... with more rows, and 3 more variables: birthday <chr>, height <dbl>,\n",
       "#   weight <int>"
      ]
     },
     "metadata": {},
     "output_type": "display_data"
    }
   ],
   "source": [
    "player_table"
   ]
  },
  {
   "cell_type": "markdown",
   "metadata": {},
   "source": [
    " Contents of Player Table : id, player_api_id, player_name, player_fifa_api_id, birthday, height, weight"
   ]
  },
  {
   "cell_type": "code",
   "execution_count": 310,
   "metadata": {
    "collapsed": true
   },
   "outputs": [],
   "source": [
    "playerAttributes_table <- tbl(my_db, \"Player_Attributes\")"
   ]
  },
  {
   "cell_type": "code",
   "execution_count": 311,
   "metadata": {
    "collapsed": false
   },
   "outputs": [
    {
     "data": {
      "text/plain": [
       "Source:   query [?? x 42]\n",
       "Database: sqlite 3.11.1 [database.sqlite]\n",
       "\n",
       "      id player_fifa_api_id player_api_id                date overall_rating\n",
       "   <int>              <int>         <int>               <chr>          <int>\n",
       "1      1             218353        505942 2016-02-18 00:00:00             67\n",
       "2      2             218353        505942 2015-11-19 00:00:00             67\n",
       "3      3             218353        505942 2015-09-21 00:00:00             62\n",
       "4      4             218353        505942 2015-03-20 00:00:00             61\n",
       "5      5             218353        505942 2007-02-22 00:00:00             61\n",
       "6      6             189615        155782 2016-04-21 00:00:00             74\n",
       "7      7             189615        155782 2016-04-07 00:00:00             74\n",
       "8      8             189615        155782 2016-01-07 00:00:00             73\n",
       "9      9             189615        155782 2015-12-24 00:00:00             73\n",
       "10    10             189615        155782 2015-12-17 00:00:00             73\n",
       "# ... with more rows, and 37 more variables: potential <int>,\n",
       "#   preferred_foot <chr>, attacking_work_rate <chr>, defensive_work_rate <chr>,\n",
       "#   crossing <int>, finishing <int>, heading_accuracy <int>,\n",
       "#   short_passing <int>, volleys <int>, dribbling <int>, curve <int>,\n",
       "#   free_kick_accuracy <int>, long_passing <int>, ball_control <int>,\n",
       "#   acceleration <int>, sprint_speed <int>, agility <int>, reactions <int>,\n",
       "#   balance <int>, shot_power <int>, jumping <int>, stamina <int>,\n",
       "#   strength <int>, long_shots <int>, aggression <int>, interceptions <int>,\n",
       "#   positioning <int>, vision <int>, penalties <int>, marking <int>,\n",
       "#   standing_tackle <int>, sliding_tackle <int>, gk_diving <int>,\n",
       "#   gk_handling <int>, gk_kicking <int>, gk_positioning <int>,\n",
       "#   gk_reflexes <int>"
      ]
     },
     "metadata": {},
     "output_type": "display_data"
    }
   ],
   "source": [
    "playerAttributes_table"
   ]
  },
  {
   "cell_type": "markdown",
   "metadata": {},
   "source": [
    "Contents in  Player_Attributes table :id, player_fifa_api_id, player_api_id, date overall_rating, 37 other variables"
   ]
  },
  {
   "cell_type": "code",
   "execution_count": 312,
   "metadata": {
    "collapsed": false
   },
   "outputs": [],
   "source": [
    "team_table <- tbl(my_db, \"Team\")"
   ]
  },
  {
   "cell_type": "code",
   "execution_count": 313,
   "metadata": {
    "collapsed": false
   },
   "outputs": [
    {
     "data": {
      "text/plain": [
       "Source:   query [?? x 5]\n",
       "Database: sqlite 3.11.1 [database.sqlite]\n",
       "\n",
       "      id team_api_id team_fifa_api_id    team_long_name team_short_name\n",
       "   <int>       <int>            <int>             <chr>           <chr>\n",
       "1      1        9987              673          KRC Genk             GEN\n",
       "2      2        9993              675      Beerschot AC             BAC\n",
       "3      3       10000            15005  SV Zulte-Waregem             ZUL\n",
       "4      4        9994             2007  Sporting Lokeren             LOK\n",
       "5      5        9984             1750 KSV Cercle Brugge             CEB\n",
       "6      6        8635              229    RSC Anderlecht             AND\n",
       "7      7        9991              674          KAA Gent             GEN\n",
       "8      8        9998             1747         RAEC Mons             MON\n",
       "9      9        7947               NA     FCV Dender EH             DEN\n",
       "10    10        9985              232 Standard de Liège             STL\n",
       "# ... with more rows"
      ]
     },
     "metadata": {},
     "output_type": "display_data"
    }
   ],
   "source": [
    "team_table"
   ]
  },
  {
   "cell_type": "markdown",
   "metadata": {},
   "source": [
    "Contents in Team table :   id, team_api_id, team_fifa_api_id, team_long_name, team_short_name"
   ]
  },
  {
   "cell_type": "code",
   "execution_count": 314,
   "metadata": {
    "collapsed": false
   },
   "outputs": [],
   "source": [
    "teamAttributes_table <- tbl(my_db, \"Team_Attributes\")"
   ]
  },
  {
   "cell_type": "code",
   "execution_count": 315,
   "metadata": {
    "collapsed": false
   },
   "outputs": [
    {
     "data": {
      "text/plain": [
       "Source:   query [?? x 25]\n",
       "Database: sqlite 3.11.1 [database.sqlite]\n",
       "\n",
       "      id team_fifa_api_id team_api_id                date buildUpPlaySpeed\n",
       "   <int>            <int>       <int>               <chr>            <int>\n",
       "1      1              434        9930 2010-02-22 00:00:00               60\n",
       "2      2              434        9930 2014-09-19 00:00:00               52\n",
       "3      3              434        9930 2015-09-10 00:00:00               47\n",
       "4      4               77        8485 2010-02-22 00:00:00               70\n",
       "5      5               77        8485 2011-02-22 00:00:00               47\n",
       "6      6               77        8485 2012-02-22 00:00:00               58\n",
       "7      7               77        8485 2013-09-20 00:00:00               62\n",
       "8      8               77        8485 2014-09-19 00:00:00               58\n",
       "9      9               77        8485 2015-09-10 00:00:00               59\n",
       "10    10              614        8576 2010-02-22 00:00:00               60\n",
       "# ... with more rows, and 20 more variables: buildUpPlaySpeedClass <chr>,\n",
       "#   buildUpPlayDribbling <int>, buildUpPlayDribblingClass <chr>,\n",
       "#   buildUpPlayPassing <int>, buildUpPlayPassingClass <chr>,\n",
       "#   buildUpPlayPositioningClass <chr>, chanceCreationPassing <int>,\n",
       "#   chanceCreationPassingClass <chr>, chanceCreationCrossing <int>,\n",
       "#   chanceCreationCrossingClass <chr>, chanceCreationShooting <int>,\n",
       "#   chanceCreationShootingClass <chr>, chanceCreationPositioningClass <chr>,\n",
       "#   defencePressure <int>, defencePressureClass <chr>, defenceAggression <int>,\n",
       "#   defenceAggressionClass <chr>, defenceTeamWidth <int>,\n",
       "#   defenceTeamWidthClass <chr>, defenceDefenderLineClass <chr>"
      ]
     },
     "metadata": {},
     "output_type": "display_data"
    }
   ],
   "source": [
    "teamAttributes_table "
   ]
  },
  {
   "cell_type": "markdown",
   "metadata": {},
   "source": [
    "Contents in Team_Attributes table :  id, team_fifa_api_id, team_api_id, date, buildUpPlaySpeed"
   ]
  },
  {
   "cell_type": "code",
   "execution_count": 316,
   "metadata": {
    "collapsed": true
   },
   "outputs": [],
   "source": [
    "country_table <- tbl(my_db, \"Country\")"
   ]
  },
  {
   "cell_type": "code",
   "execution_count": 317,
   "metadata": {
    "collapsed": false
   },
   "outputs": [
    {
     "data": {
      "text/plain": [
       "Source:   query [?? x 2]\n",
       "Database: sqlite 3.11.1 [database.sqlite]\n",
       "\n",
       "      id        name\n",
       "   <int>       <chr>\n",
       "1      1     Belgium\n",
       "2   1729     England\n",
       "3   4769      France\n",
       "4   7809     Germany\n",
       "5  10257       Italy\n",
       "6  13274 Netherlands\n",
       "7  15722      Poland\n",
       "8  17642    Portugal\n",
       "9  19694    Scotland\n",
       "10 21518       Spain\n",
       "# ... with more rows"
      ]
     },
     "metadata": {},
     "output_type": "display_data"
    }
   ],
   "source": [
    "country_table"
   ]
  },
  {
   "cell_type": "markdown",
   "metadata": {},
   "source": [
    "Contents of Country table :  id, name"
   ]
  },
  {
   "cell_type": "code",
   "execution_count": 318,
   "metadata": {
    "collapsed": true
   },
   "outputs": [],
   "source": [
    "league_table <- tbl(my_db, \"League\")"
   ]
  },
  {
   "cell_type": "code",
   "execution_count": 319,
   "metadata": {
    "collapsed": false
   },
   "outputs": [
    {
     "data": {
      "text/plain": [
       "Source:   query [?? x 3]\n",
       "Database: sqlite 3.11.1 [database.sqlite]\n",
       "\n",
       "      id country_id                     name\n",
       "   <int>      <int>                    <chr>\n",
       "1      1          1   Belgium Jupiler League\n",
       "2   1729       1729   England Premier League\n",
       "3   4769       4769           France Ligue 1\n",
       "4   7809       7809    Germany 1. Bundesliga\n",
       "5  10257      10257            Italy Serie A\n",
       "6  13274      13274   Netherlands Eredivisie\n",
       "7  15722      15722       Poland Ekstraklasa\n",
       "8  17642      17642 Portugal Liga ZON Sagres\n",
       "9  19694      19694  Scotland Premier League\n",
       "10 21518      21518          Spain LIGA BBVA\n",
       "# ... with more rows"
      ]
     },
     "metadata": {},
     "output_type": "display_data"
    }
   ],
   "source": [
    "league_table"
   ]
  },
  {
   "cell_type": "markdown",
   "metadata": {},
   "source": [
    "Contents of League table : id, country_id, name"
   ]
  },
  {
   "cell_type": "code",
   "execution_count": 320,
   "metadata": {
    "collapsed": true
   },
   "outputs": [],
   "source": [
    "match_table <- tbl(my_db, \"Match\")"
   ]
  },
  {
   "cell_type": "code",
   "execution_count": 321,
   "metadata": {
    "collapsed": false
   },
   "outputs": [
    {
     "data": {
      "text/plain": [
       "Source:   query [?? x 115]\n",
       "Database: sqlite 3.11.1 [database.sqlite]\n",
       "\n",
       "      id country_id league_id    season stage                date match_api_id\n",
       "   <int>      <int>     <int>     <chr> <int>               <chr>        <int>\n",
       "1      1          1         1 2008/2009     1 2008-08-17 00:00:00       492473\n",
       "2      2          1         1 2008/2009     1 2008-08-16 00:00:00       492474\n",
       "3      3          1         1 2008/2009     1 2008-08-16 00:00:00       492475\n",
       "4      4          1         1 2008/2009     1 2008-08-17 00:00:00       492476\n",
       "5      5          1         1 2008/2009     1 2008-08-16 00:00:00       492477\n",
       "6      6          1         1 2008/2009     1 2008-09-24 00:00:00       492478\n",
       "7      7          1         1 2008/2009     1 2008-08-16 00:00:00       492479\n",
       "8      8          1         1 2008/2009     1 2008-08-16 00:00:00       492480\n",
       "9      9          1         1 2008/2009     1 2008-08-16 00:00:00       492481\n",
       "10    10          1         1 2008/2009    10 2008-11-01 00:00:00       492564\n",
       "# ... with more rows, and 108 more variables: home_team_api_id <int>,\n",
       "#   away_team_api_id <int>, home_team_goal <int>, away_team_goal <int>,\n",
       "#   home_player_X1 <int>, home_player_X2 <int>, home_player_X3 <int>,\n",
       "#   home_player_X4 <int>, home_player_X5 <int>, home_player_X6 <int>,\n",
       "#   home_player_X7 <int>, home_player_X8 <int>, home_player_X9 <int>,\n",
       "#   home_player_X10 <int>, home_player_X11 <int>, away_player_X1 <int>,\n",
       "#   away_player_X2 <int>, away_player_X3 <int>, away_player_X4 <int>,\n",
       "#   away_player_X5 <int>, away_player_X6 <int>, away_player_X7 <int>,\n",
       "#   away_player_X8 <int>, away_player_X9 <int>, away_player_X10 <int>,\n",
       "#   away_player_X11 <int>, home_player_Y1 <int>, home_player_Y2 <int>,\n",
       "#   home_player_Y3 <int>, home_player_Y4 <int>, home_player_Y5 <int>,\n",
       "#   home_player_Y6 <int>, home_player_Y7 <int>, home_player_Y8 <int>,\n",
       "#   home_player_Y9 <int>, home_player_Y10 <int>, home_player_Y11 <int>,\n",
       "#   away_player_Y1 <int>, away_player_Y2 <int>, away_player_Y3 <int>,\n",
       "#   away_player_Y4 <int>, away_player_Y5 <int>, away_player_Y6 <int>,\n",
       "#   away_player_Y7 <int>, away_player_Y8 <int>, away_player_Y9 <int>,\n",
       "#   away_player_Y10 <int>, away_player_Y11 <int>, home_player_1 <int>,\n",
       "#   home_player_2 <int>, home_player_3 <int>, home_player_4 <int>,\n",
       "#   home_player_5 <int>, home_player_6 <int>, home_player_7 <int>,\n",
       "#   home_player_8 <int>, home_player_9 <int>, home_player_10 <int>,\n",
       "#   home_player_11 <int>, away_player_1 <int>, away_player_2 <int>,\n",
       "#   away_player_3 <int>, away_player_4 <int>, away_player_5 <int>,\n",
       "#   away_player_6 <int>, away_player_7 <int>, away_player_8 <int>,\n",
       "#   away_player_9 <int>, away_player_10 <int>, away_player_11 <int>,\n",
       "#   goal <chr>, shoton <chr>, shotoff <chr>, foulcommit <chr>, card <chr>,\n",
       "#   cross <chr>, corner <chr>, possession <chr>, B365H <dbl>, B365D <dbl>,\n",
       "#   B365A <int>, BWH <dbl>, BWD <dbl>, BWA <dbl>, IWH <dbl>, IWD <dbl>,\n",
       "#   IWA <dbl>, LBH <dbl>, LBD <dbl>, LBA <dbl>, PSH <dbl>, PSD <dbl>,\n",
       "#   PSA <dbl>, WHH <dbl>, WHD <dbl>, WHA <dbl>, SJH <dbl>, SJD <dbl>,\n",
       "#   SJA <int>, VCH <dbl>, ..."
      ]
     },
     "metadata": {},
     "output_type": "display_data"
    }
   ],
   "source": [
    "match_table"
   ]
  },
  {
   "cell_type": "code",
   "execution_count": 322,
   "metadata": {
    "collapsed": false
   },
   "outputs": [
    {
     "data": {
      "text/html": [
       "<table>\n",
       "<thead><tr><th scope=col>home_team_goal</th><th scope=col>away_team_goal</th></tr></thead>\n",
       "<tbody>\n",
       "\t<tr><td>1</td><td>1</td></tr>\n",
       "\t<tr><td>0</td><td>0</td></tr>\n",
       "\t<tr><td>0</td><td>3</td></tr>\n",
       "\t<tr><td>5</td><td>0</td></tr>\n",
       "\t<tr><td>1</td><td>3</td></tr>\n",
       "\t<tr><td>1</td><td>1</td></tr>\n",
       "\t<tr><td>2</td><td>2</td></tr>\n",
       "\t<tr><td>1</td><td>2</td></tr>\n",
       "\t<tr><td>1</td><td>0</td></tr>\n",
       "\t<tr><td>4</td><td>1</td></tr>\n",
       "\t<tr><td>1</td><td>2</td></tr>\n",
       "\t<tr><td>0</td><td>2</td></tr>\n",
       "\t<tr><td>0</td><td>0</td></tr>\n",
       "\t<tr><td>2</td><td>2</td></tr>\n",
       "\t<tr><td>1</td><td>2</td></tr>\n",
       "\t<tr><td>0</td><td>1</td></tr>\n",
       "\t<tr><td>1</td><td>3</td></tr>\n",
       "\t<tr><td>1</td><td>3</td></tr>\n",
       "\t<tr><td>2</td><td>3</td></tr>\n",
       "\t<tr><td>0</td><td>0</td></tr>\n",
       "\t<tr><td>2</td><td>2</td></tr>\n",
       "\t<tr><td>2</td><td>0</td></tr>\n",
       "\t<tr><td>1</td><td>1</td></tr>\n",
       "\t<tr><td>1</td><td>2</td></tr>\n",
       "\t<tr><td>0</td><td>0</td></tr>\n",
       "\t<tr><td>1</td><td>0</td></tr>\n",
       "\t<tr><td>1</td><td>3</td></tr>\n",
       "\t<tr><td>1</td><td>1</td></tr>\n",
       "\t<tr><td>1</td><td>1</td></tr>\n",
       "\t<tr><td>2</td><td>2</td></tr>\n",
       "\t<tr><td>...</td><td>...</td></tr>\n",
       "\t<tr><td>6</td><td>1</td></tr>\n",
       "\t<tr><td>1</td><td>3</td></tr>\n",
       "\t<tr><td>0</td><td>2</td></tr>\n",
       "\t<tr><td>1</td><td>1</td></tr>\n",
       "\t<tr><td>3</td><td>1</td></tr>\n",
       "\t<tr><td>3</td><td>1</td></tr>\n",
       "\t<tr><td>0</td><td>1</td></tr>\n",
       "\t<tr><td>0</td><td>1</td></tr>\n",
       "\t<tr><td>3</td><td>1</td></tr>\n",
       "\t<tr><td>3</td><td>3</td></tr>\n",
       "\t<tr><td>1</td><td>3</td></tr>\n",
       "\t<tr><td>1</td><td>3</td></tr>\n",
       "\t<tr><td>0</td><td>2</td></tr>\n",
       "\t<tr><td>1</td><td>0</td></tr>\n",
       "\t<tr><td>2</td><td>5</td></tr>\n",
       "\t<tr><td>0</td><td>1</td></tr>\n",
       "\t<tr><td>1</td><td>0</td></tr>\n",
       "\t<tr><td>0</td><td>2</td></tr>\n",
       "\t<tr><td>3</td><td>1</td></tr>\n",
       "\t<tr><td>3</td><td>2</td></tr>\n",
       "\t<tr><td>2</td><td>1</td></tr>\n",
       "\t<tr><td>4</td><td>0</td></tr>\n",
       "\t<tr><td>3</td><td>3</td></tr>\n",
       "\t<tr><td>3</td><td>3</td></tr>\n",
       "\t<tr><td>3</td><td>0</td></tr>\n",
       "\t<tr><td>1</td><td>0</td></tr>\n",
       "\t<tr><td>1</td><td>2</td></tr>\n",
       "\t<tr><td>2</td><td>0</td></tr>\n",
       "\t<tr><td>0</td><td>0</td></tr>\n",
       "\t<tr><td>4</td><td>3</td></tr>\n",
       "</tbody>\n",
       "</table>\n"
      ],
      "text/latex": [
       "\\begin{tabular}{r|ll}\n",
       " home\\_team\\_goal & away\\_team\\_goal\\\\\n",
       "\\hline\n",
       "\t 1 & 1\\\\\n",
       "\t 0 & 0\\\\\n",
       "\t 0 & 3\\\\\n",
       "\t 5 & 0\\\\\n",
       "\t 1 & 3\\\\\n",
       "\t 1 & 1\\\\\n",
       "\t 2 & 2\\\\\n",
       "\t 1 & 2\\\\\n",
       "\t 1 & 0\\\\\n",
       "\t 4 & 1\\\\\n",
       "\t 1 & 2\\\\\n",
       "\t 0 & 2\\\\\n",
       "\t 0 & 0\\\\\n",
       "\t 2 & 2\\\\\n",
       "\t 1 & 2\\\\\n",
       "\t 0 & 1\\\\\n",
       "\t 1 & 3\\\\\n",
       "\t 1 & 3\\\\\n",
       "\t 2 & 3\\\\\n",
       "\t 0 & 0\\\\\n",
       "\t 2 & 2\\\\\n",
       "\t 2 & 0\\\\\n",
       "\t 1 & 1\\\\\n",
       "\t 1 & 2\\\\\n",
       "\t 0 & 0\\\\\n",
       "\t 1 & 0\\\\\n",
       "\t 1 & 3\\\\\n",
       "\t 1 & 1\\\\\n",
       "\t 1 & 1\\\\\n",
       "\t 2 & 2\\\\\n",
       "\t ... & ...\\\\\n",
       "\t 6 & 1\\\\\n",
       "\t 1 & 3\\\\\n",
       "\t 0 & 2\\\\\n",
       "\t 1 & 1\\\\\n",
       "\t 3 & 1\\\\\n",
       "\t 3 & 1\\\\\n",
       "\t 0 & 1\\\\\n",
       "\t 0 & 1\\\\\n",
       "\t 3 & 1\\\\\n",
       "\t 3 & 3\\\\\n",
       "\t 1 & 3\\\\\n",
       "\t 1 & 3\\\\\n",
       "\t 0 & 2\\\\\n",
       "\t 1 & 0\\\\\n",
       "\t 2 & 5\\\\\n",
       "\t 0 & 1\\\\\n",
       "\t 1 & 0\\\\\n",
       "\t 0 & 2\\\\\n",
       "\t 3 & 1\\\\\n",
       "\t 3 & 2\\\\\n",
       "\t 2 & 1\\\\\n",
       "\t 4 & 0\\\\\n",
       "\t 3 & 3\\\\\n",
       "\t 3 & 3\\\\\n",
       "\t 3 & 0\\\\\n",
       "\t 1 & 0\\\\\n",
       "\t 1 & 2\\\\\n",
       "\t 2 & 0\\\\\n",
       "\t 0 & 0\\\\\n",
       "\t 4 & 3\\\\\n",
       "\\end{tabular}\n"
      ],
      "text/markdown": [
       "\n",
       "home_team_goal | away_team_goal | \n",
       "|---|---|---|---|---|---|---|---|---|---|---|---|---|---|---|---|---|---|---|---|---|---|---|---|---|---|---|---|---|---|---|---|---|---|---|---|---|---|---|---|---|---|---|---|---|---|---|---|---|---|---|---|---|---|---|---|---|---|---|---|---|\n",
       "| 1 | 1 | \n",
       "| 0 | 0 | \n",
       "| 0 | 3 | \n",
       "| 5 | 0 | \n",
       "| 1 | 3 | \n",
       "| 1 | 1 | \n",
       "| 2 | 2 | \n",
       "| 1 | 2 | \n",
       "| 1 | 0 | \n",
       "| 4 | 1 | \n",
       "| 1 | 2 | \n",
       "| 0 | 2 | \n",
       "| 0 | 0 | \n",
       "| 2 | 2 | \n",
       "| 1 | 2 | \n",
       "| 0 | 1 | \n",
       "| 1 | 3 | \n",
       "| 1 | 3 | \n",
       "| 2 | 3 | \n",
       "| 0 | 0 | \n",
       "| 2 | 2 | \n",
       "| 2 | 0 | \n",
       "| 1 | 1 | \n",
       "| 1 | 2 | \n",
       "| 0 | 0 | \n",
       "| 1 | 0 | \n",
       "| 1 | 3 | \n",
       "| 1 | 1 | \n",
       "| 1 | 1 | \n",
       "| 2 | 2 | \n",
       "| ... | ... | \n",
       "| 6 | 1 | \n",
       "| 1 | 3 | \n",
       "| 0 | 2 | \n",
       "| 1 | 1 | \n",
       "| 3 | 1 | \n",
       "| 3 | 1 | \n",
       "| 0 | 1 | \n",
       "| 0 | 1 | \n",
       "| 3 | 1 | \n",
       "| 3 | 3 | \n",
       "| 1 | 3 | \n",
       "| 1 | 3 | \n",
       "| 0 | 2 | \n",
       "| 1 | 0 | \n",
       "| 2 | 5 | \n",
       "| 0 | 1 | \n",
       "| 1 | 0 | \n",
       "| 0 | 2 | \n",
       "| 3 | 1 | \n",
       "| 3 | 2 | \n",
       "| 2 | 1 | \n",
       "| 4 | 0 | \n",
       "| 3 | 3 | \n",
       "| 3 | 3 | \n",
       "| 3 | 0 | \n",
       "| 1 | 0 | \n",
       "| 1 | 2 | \n",
       "| 2 | 0 | \n",
       "| 0 | 0 | \n",
       "| 4 | 3 | \n",
       "\n",
       "\n"
      ],
      "text/plain": [
       "      home_team_goal away_team_goal\n",
       "1     1              1             \n",
       "2     0              0             \n",
       "3     0              3             \n",
       "4     5              0             \n",
       "5     1              3             \n",
       "6     1              1             \n",
       "7     2              2             \n",
       "8     1              2             \n",
       "9     1              0             \n",
       "10    4              1             \n",
       "11    1              2             \n",
       "12    0              2             \n",
       "13    0              0             \n",
       "14    2              2             \n",
       "15    1              2             \n",
       "16    0              1             \n",
       "17    1              3             \n",
       "18    1              3             \n",
       "19    2              3             \n",
       "20    0              0             \n",
       "21    2              2             \n",
       "22    2              0             \n",
       "23    1              1             \n",
       "24    1              2             \n",
       "25    0              0             \n",
       "26    1              0             \n",
       "27    1              3             \n",
       "28    1              1             \n",
       "29    1              1             \n",
       "30    2              2             \n",
       "...   ...            ...           \n",
       "25950 6              1             \n",
       "25951 1              3             \n",
       "25952 0              2             \n",
       "25953 1              1             \n",
       "25954 3              1             \n",
       "25955 3              1             \n",
       "25956 0              1             \n",
       "25957 0              1             \n",
       "25958 3              1             \n",
       "25959 3              3             \n",
       "25960 1              3             \n",
       "25961 1              3             \n",
       "25962 0              2             \n",
       "25963 1              0             \n",
       "25964 2              5             \n",
       "25965 0              1             \n",
       "25966 1              0             \n",
       "25967 0              2             \n",
       "25968 3              1             \n",
       "25969 3              2             \n",
       "25970 2              1             \n",
       "25971 4              0             \n",
       "25972 3              3             \n",
       "25973 3              3             \n",
       "25974 3              0             \n",
       "25975 1              0             \n",
       "25976 1              2             \n",
       "25977 2              0             \n",
       "25978 0              0             \n",
       "25979 4              3             "
      ]
     },
     "metadata": {},
     "output_type": "display_data"
    }
   ],
   "source": [
    "goal <- select(match_table, home_team_goal, away_team_goal)\n",
    "collect(goal)"
   ]
  },
  {
   "cell_type": "markdown",
   "metadata": {},
   "source": [
    "Contents of Match table : \n",
    "      id, country_id, league_id, season stage, date, match_api_id and 108 more variables"
   ]
  },
  {
   "cell_type": "code",
   "execution_count": 323,
   "metadata": {
    "collapsed": false
   },
   "outputs": [
    {
     "data": {
      "text/html": [
       "11060"
      ],
      "text/latex": [
       "11060"
      ],
      "text/markdown": [
       "11060"
      ],
      "text/plain": [
       "[1] 11060"
      ]
     },
     "metadata": {},
     "output_type": "display_data"
    },
    {
     "name": "stderr",
     "output_type": "stream",
     "text": [
      "Joining, by = \"player_api_id\"\n"
     ]
    }
   ],
   "source": [
    "player_table2 <- select(player_table, player_api_id, player_name)\n",
    "\n",
    "playerAttributes_table2 <- select(playerAttributes_table, player_api_id, overall_rating, starts_with(\"gk_\"))\n",
    "\n",
    "groupByTest <- group_by(playerAttributes_table, player_api_id)\n",
    "\n",
    "groupByTest2 <- summarise(groupByTest,  overall_rating = max(overall_rating), max_gk_rating = max(gk_diving+gk_handling+gk_kicking+gk_positioning+gk_reflexes))\n",
    "\n",
    "nrow(collect(groupByTest2))\n",
    "\n",
    "innerJoin <- inner_join(groupByTest2, player_table)"
   ]
  },
  {
   "cell_type": "code",
   "execution_count": 324,
   "metadata": {
    "collapsed": false
   },
   "outputs": [
    {
     "data": {
      "text/plain": [
       "Source:   query [?? x 9]\n",
       "Database: sqlite 3.11.1 [database.sqlite]\n",
       "\n",
       "   player_api_id overall_rating max_gk_rating    id       player_name\n",
       "           <int>          <int>         <int> <int>             <chr>\n",
       "1           2625             63           153  8372 Patryk Rachwal,18\n",
       "2           2752             72            53  2639       Diego Mainz\n",
       "3           2768             75           128  5319       Jose Dorado\n",
       "4           2770             74           148  4339  Ignacio Gonzalez\n",
       "5           2790             73           144   306       Alberto Rey\n",
       "6           2796             69           340  4734    Javier Jimenez\n",
       "7           2802             82           146  8249   Pablo Hernandez\n",
       "8           2805             76           141  9282       Ruben Perez\n",
       "9           2857             72           143  4467        Ivan Perez\n",
       "10          2862             76           146 10600   Vicente Sanchez\n",
       "# ... with more rows, and 4 more variables: player_fifa_api_id <int>,\n",
       "#   birthday <chr>, height <dbl>, weight <int>"
      ]
     },
     "metadata": {},
     "output_type": "display_data"
    }
   ],
   "source": [
    "innerJoin"
   ]
  },
  {
   "cell_type": "markdown",
   "metadata": {},
   "source": [
    "Now, we have got information required for questions on overall_rating and gk_rating. We require stats from match_table relating to a player on the number of matches played and leagues played."
   ]
  },
  {
   "cell_type": "markdown",
   "metadata": {},
   "source": [
    "The above table and the match_table needs to be maniplated properly to get the required data relating to a particular player. Researched on what can be done. One approach is to count the appearance of player_id from the above table in the home_player_1:11 and away_player_1:10 columns of the match_table. Other easy approach can be to do union of the above table and the match table."
   ]
  },
  {
   "cell_type": "markdown",
   "metadata": {},
   "source": [
    "So, inorder to do union, we need a new customized table out of match_table. First we just need the player_id and a new variable which tells you the number of appearances based on the home_player_1:11 and away_player_1:10. Let's first do that."
   ]
  },
  {
   "cell_type": "code",
   "execution_count": 325,
   "metadata": {
    "collapsed": false
   },
   "outputs": [
    {
     "data": {
      "text/html": [
       "25979"
      ],
      "text/latex": [
       "25979"
      ],
      "text/markdown": [
       "25979"
      ],
      "text/plain": [
       "[1] 25979"
      ]
     },
     "metadata": {},
     "output_type": "display_data"
    }
   ],
   "source": [
    "match_table2 <- select(match_table, dummy = home_player_1)\n",
    "\n",
    "nrow(collect(match_table2))"
   ]
  },
  {
   "cell_type": "code",
   "execution_count": 326,
   "metadata": {
    "collapsed": false
   },
   "outputs": [
    {
     "data": {
      "text/html": [
       "51958"
      ],
      "text/latex": [
       "51958"
      ],
      "text/markdown": [
       "51958"
      ],
      "text/plain": [
       "[1] 51958"
      ]
     },
     "metadata": {},
     "output_type": "display_data"
    }
   ],
   "source": [
    "match_table2 <- union_all(match_table2, select(match_table, dummy = home_player_2))\n",
    "\n",
    "nrow(collect(match_table2))"
   ]
  },
  {
   "cell_type": "code",
   "execution_count": 327,
   "metadata": {
    "collapsed": false
   },
   "outputs": [
    {
     "data": {
      "text/html": [
       "25979"
      ],
      "text/latex": [
       "25979"
      ],
      "text/markdown": [
       "25979"
      ],
      "text/plain": [
       "[1] 25979"
      ]
     },
     "metadata": {},
     "output_type": "display_data"
    }
   ],
   "source": [
    "match_table3 <- select(match_table, home_player_1:home_player_11, league_id)\n",
    "nrow(collect(match_table3))"
   ]
  },
  {
   "cell_type": "code",
   "execution_count": 328,
   "metadata": {
    "collapsed": false
   },
   "outputs": [
    {
     "data": {
      "text/html": [
       "25979"
      ],
      "text/latex": [
       "25979"
      ],
      "text/markdown": [
       "25979"
      ],
      "text/plain": [
       "[1] 25979"
      ]
     },
     "metadata": {},
     "output_type": "display_data"
    }
   ],
   "source": [
    "match_table4 <- select(match_table, home_player_1 = away_player_1, home_player_2 = away_player_2, home_player_3 = away_player_3\n",
    "                      ,home_player_4 = away_player_4, home_player_5 = away_player_5, home_player_6 = away_player_6, home_player_7 = away_player_7,\n",
    "                      home_player_8 = away_player_8,\n",
    "                      home_player_9 = away_player_9,\n",
    "                      home_player_10 = away_player_10,\n",
    "                      home_player_11 = away_player_11, league_id)\n",
    "nrow(collect(match_table4))"
   ]
  },
  {
   "cell_type": "code",
   "execution_count": 329,
   "metadata": {
    "collapsed": false
   },
   "outputs": [
    {
     "data": {
      "text/html": [
       "51958"
      ],
      "text/latex": [
       "51958"
      ],
      "text/markdown": [
       "51958"
      ],
      "text/plain": [
       "[1] 51958"
      ]
     },
     "metadata": {},
     "output_type": "display_data"
    }
   ],
   "source": [
    "unionAll <- union_all(match_table3, match_table4)\n",
    "\n",
    "nrow(collect(unionAll))"
   ]
  },
  {
   "cell_type": "code",
   "execution_count": 330,
   "metadata": {
    "collapsed": false
   },
   "outputs": [
    {
     "data": {
      "text/html": [
       "51958"
      ],
      "text/latex": [
       "51958"
      ],
      "text/markdown": [
       "51958"
      ],
      "text/plain": [
       "[1] 51958"
      ]
     },
     "metadata": {},
     "output_type": "display_data"
    },
    {
     "data": {
      "text/html": [
       "51958"
      ],
      "text/latex": [
       "51958"
      ],
      "text/markdown": [
       "51958"
      ],
      "text/plain": [
       "[1] 51958"
      ]
     },
     "metadata": {},
     "output_type": "display_data"
    }
   ],
   "source": [
    "match_table3 <- select(unionAll, home_player_1:home_player_5, league_id)\n",
    "nrow(collect(match_table3))\n",
    "\n",
    "match_table4 <- select(unionAll, home_player_6:home_player_10, league_id)\n",
    "nrow(collect(match_table4))"
   ]
  },
  {
   "cell_type": "markdown",
   "metadata": {},
   "source": [
    "unionAll home_player_11 has to be unioned finally"
   ]
  },
  {
   "cell_type": "code",
   "execution_count": 331,
   "metadata": {
    "collapsed": false
   },
   "outputs": [
    {
     "data": {
      "text/html": [
       "103916"
      ],
      "text/latex": [
       "103916"
      ],
      "text/markdown": [
       "103916"
      ],
      "text/plain": [
       "[1] 103916"
      ]
     },
     "metadata": {},
     "output_type": "display_data"
    }
   ],
   "source": [
    "unionAll2 <- union_all(match_table3, match_table4)\n",
    "nrow(collect(unionAll2, n = Inf))"
   ]
  },
  {
   "cell_type": "code",
   "execution_count": 332,
   "metadata": {
    "collapsed": false
   },
   "outputs": [
    {
     "data": {
      "text/html": [
       "207832"
      ],
      "text/latex": [
       "207832"
      ],
      "text/markdown": [
       "207832"
      ],
      "text/plain": [
       "[1] 207832"
      ]
     },
     "metadata": {},
     "output_type": "display_data"
    }
   ],
   "source": [
    "match_table3 <- select(unionAll2, home_player_1:home_player_2, league_id)\n",
    "match_table4 <- select(unionAll2, home_player_3:home_player_4, league_id)\n",
    "unionAll3 <- union_all(match_table3, match_table4)\n",
    "nrow(collect(unionAll3, n = Inf))"
   ]
  },
  {
   "cell_type": "markdown",
   "metadata": {},
   "source": [
    "unionAll2 home_player_5 has to be unioned finally"
   ]
  },
  {
   "cell_type": "code",
   "execution_count": 333,
   "metadata": {
    "collapsed": false
   },
   "outputs": [
    {
     "data": {
      "text/html": [
       "415664"
      ],
      "text/latex": [
       "415664"
      ],
      "text/markdown": [
       "415664"
      ],
      "text/plain": [
       "[1] 415664"
      ]
     },
     "metadata": {},
     "output_type": "display_data"
    },
    {
     "data": {
      "text/html": [
       "571538"
      ],
      "text/latex": [
       "571538"
      ],
      "text/markdown": [
       "571538"
      ],
      "text/plain": [
       "[1] 571538"
      ]
     },
     "metadata": {},
     "output_type": "display_data"
    }
   ],
   "source": [
    "union_final <- union_all(select(unionAll3, home_player_1, league_id), select(unionAll3, home_player_2, league_id))\n",
    "nrow(collect(union_final, n = Inf))\n",
    "union_final <- union_all(select(union_final, home_player_1, league_id), select(unionAll2, home_player_5, league_id))\n",
    "union_final <- union_all(select(union_final, home_player_1, league_id), select(unionAll, home_player_11, league_id))\n",
    "nrow(collect(union_final, n = Inf))"
   ]
  },
  {
   "cell_type": "code",
   "execution_count": 334,
   "metadata": {
    "collapsed": false
   },
   "outputs": [
    {
     "data": {
      "text/html": [
       "571538"
      ],
      "text/latex": [
       "571538"
      ],
      "text/markdown": [
       "571538"
      ],
      "text/plain": [
       "[1] 571538"
      ]
     },
     "metadata": {},
     "output_type": "display_data"
    },
    {
     "data": {
      "text/html": [
       "11061"
      ],
      "text/latex": [
       "11061"
      ],
      "text/markdown": [
       "11061"
      ],
      "text/plain": [
       "[1] 11061"
      ]
     },
     "metadata": {},
     "output_type": "display_data"
    }
   ],
   "source": [
    "groupByFinal <- group_by(union_final, home_player_1)\n",
    "nrow(collect(groupByFinal, n = Inf))\n",
    "summariseFinal <- summarize(groupByFinal, player_api_id = home_player_1, totalNumOfMatches = n(home_player_1), \n",
    "                            totalNumOfLeagues = n_distinct(league_id))\n",
    "nrow(collect(summariseFinal))"
   ]
  },
  {
   "cell_type": "code",
   "execution_count": 335,
   "metadata": {
    "collapsed": false
   },
   "outputs": [
    {
     "name": "stderr",
     "output_type": "stream",
     "text": [
      "Joining, by = \"player_api_id\"\n"
     ]
    },
    {
     "data": {
      "text/html": [
       "11060"
      ],
      "text/latex": [
       "11060"
      ],
      "text/markdown": [
       "11060"
      ],
      "text/plain": [
       "[1] 11060"
      ]
     },
     "metadata": {},
     "output_type": "display_data"
    }
   ],
   "source": [
    "innerJoin2 <- inner_join(innerJoin,summariseFinal)\n",
    "nrow(collect(innerJoin2))"
   ]
  },
  {
   "cell_type": "code",
   "execution_count": 336,
   "metadata": {
    "collapsed": false
   },
   "outputs": [
    {
     "data": {
      "text/html": [
       "11060"
      ],
      "text/latex": [
       "11060"
      ],
      "text/markdown": [
       "11060"
      ],
      "text/plain": [
       "[1] 11060"
      ]
     },
     "metadata": {},
     "output_type": "display_data"
    }
   ],
   "source": [
    "nrow(collect(innerJoin2, n = Inf))"
   ]
  },
  {
   "cell_type": "code",
   "execution_count": 337,
   "metadata": {
    "collapsed": true
   },
   "outputs": [],
   "source": [
    "write.csv(data.frame(innerJoin2), \"player.csv\")"
   ]
  },
  {
   "cell_type": "markdown",
   "metadata": {},
   "source": [
    "Finally, we are done with player.csv. Lets move on to team.csv"
   ]
  },
  {
   "cell_type": "code",
   "execution_count": 338,
   "metadata": {
    "collapsed": false
   },
   "outputs": [
    {
     "data": {
      "text/html": [
       "288"
      ],
      "text/latex": [
       "288"
      ],
      "text/markdown": [
       "288"
      ],
      "text/plain": [
       "[1] 288"
      ]
     },
     "metadata": {},
     "output_type": "display_data"
    },
    {
     "name": "stderr",
     "output_type": "stream",
     "text": [
      "Joining, by = \"team_api_id\"\n"
     ]
    },
    {
     "data": {
      "text/plain": [
       "Source:   query [?? x 8]\n",
       "Database: sqlite 3.11.1 [database.sqlite]\n",
       "\n",
       "   team_api_id maxBuildUpPlay maxChanceCreation maxDefense    id\n",
       "         <int>          <int>             <int>      <int> <int>\n",
       "1         1601            139               186        175 31446\n",
       "2         1773            153               157        137  1513\n",
       "3         1957            158               163        210 31456\n",
       "4         2033            147               165        155 35774\n",
       "5         2182            176               196        160 31453\n",
       "6         2183             NA               180        175 31448\n",
       "7         2186            125               168        205 31458\n",
       "8         4087            156               180        165 11822\n",
       "9         4170             NA               165        200 10312\n",
       "10        6269            179               172        151 22805\n",
       "# ... with more rows, and 3 more variables: team_fifa_api_id <int>,\n",
       "#   team_long_name <chr>, team_short_name <chr>"
      ]
     },
     "metadata": {},
     "output_type": "display_data"
    }
   ],
   "source": [
    "groupByTeam <- group_by(teamAttributes_table, team_api_id)\n",
    "\n",
    "groupByTeam2 <- summarise(groupByTeam,  maxBuildUpPlay = max(buildUpPlaySpeed+ buildUpPlaySpeedClass+ buildUpPlayDribbling+ buildUpPlayDribblingClass+ buildUpPlayPassing+ buildUpPlayPassingClass+buildUpPlayPositioningClass),\n",
    "                         maxChanceCreation = max(chanceCreationPassing+ chanceCreationPassingClass+chanceCreationCrossing+ chanceCreationCrossingClass+ chanceCreationShooting+ chanceCreationShootingClass+ chanceCreationPositioningClass),\n",
    "                         maxDefense = max(defencePressure+ defencePressureClass+ defenceAggression+ defenceAggressionClass+ defenceTeamWidth+ defenceTeamWidthClass+ defenceDefenderLineClass)\n",
    "                         )\n",
    "\n",
    "nrow(collect(groupByTeam2))\n",
    "\n",
    "innerJoinTeam <- inner_join(groupByTeam2, team_table)\n",
    "innerJoinTeam"
   ]
  },
  {
   "cell_type": "code",
   "execution_count": 339,
   "metadata": {
    "collapsed": false
   },
   "outputs": [
    {
     "data": {
      "text/html": [
       "<table>\n",
       "<thead><tr><th scope=col>team_api_id</th><th scope=col>maxNumOfGoals</th></tr></thead>\n",
       "<tbody>\n",
       "\t<tr><td>1601</td><td>280 </td></tr>\n",
       "\t<tr><td>1773</td><td>126 </td></tr>\n",
       "\t<tr><td>1957</td><td>287 </td></tr>\n",
       "\t<tr><td>2033</td><td>138 </td></tr>\n",
       "\t<tr><td>2182</td><td>372 </td></tr>\n",
       "\t<tr><td>2183</td><td>184 </td></tr>\n",
       "\t<tr><td>2186</td><td>235 </td></tr>\n",
       "\t<tr><td>4049</td><td> 35 </td></tr>\n",
       "\t<tr><td>4064</td><td> 27 </td></tr>\n",
       "\t<tr><td>4087</td><td>180 </td></tr>\n",
       "\t<tr><td>4170</td><td> 31 </td></tr>\n",
       "\t<tr><td>6269</td><td> 34 </td></tr>\n",
       "\t<tr><td>6351</td><td> 28 </td></tr>\n",
       "\t<tr><td>6367</td><td> 27 </td></tr>\n",
       "\t<tr><td>6391</td><td> 37 </td></tr>\n",
       "\t<tr><td>6403</td><td>292 </td></tr>\n",
       "\t<tr><td>6413</td><td>204 </td></tr>\n",
       "\t<tr><td>6421</td><td> 55 </td></tr>\n",
       "\t<tr><td>6433</td><td> 74 </td></tr>\n",
       "\t<tr><td>6493</td><td>128 </td></tr>\n",
       "\t<tr><td>6547</td><td> 29 </td></tr>\n",
       "\t<tr><td>6601</td><td> 38 </td></tr>\n",
       "\t<tr><td>6631</td><td> 24 </td></tr>\n",
       "\t<tr><td>7730</td><td> 99 </td></tr>\n",
       "\t<tr><td>7788</td><td>119 </td></tr>\n",
       "\t<tr><td>7794</td><td>165 </td></tr>\n",
       "\t<tr><td>7819</td><td>220 </td></tr>\n",
       "\t<tr><td>7841</td><td>248 </td></tr>\n",
       "\t<tr><td>7842</td><td>167 </td></tr>\n",
       "\t<tr><td>7844</td><td>300 </td></tr>\n",
       "\t<tr><td>...</td><td>...</td></tr>\n",
       "\t<tr><td> 10214</td><td>332   </td></tr>\n",
       "\t<tr><td> 10215</td><td>240   </td></tr>\n",
       "\t<tr><td> 10217</td><td>366   </td></tr>\n",
       "\t<tr><td> 10218</td><td>154   </td></tr>\n",
       "\t<tr><td> 10219</td><td>153   </td></tr>\n",
       "\t<tr><td> 10228</td><td>470   </td></tr>\n",
       "\t<tr><td> 10229</td><td>492   </td></tr>\n",
       "\t<tr><td> 10233</td><td>392   </td></tr>\n",
       "\t<tr><td> 10235</td><td>489   </td></tr>\n",
       "\t<tr><td> 10238</td><td>238   </td></tr>\n",
       "\t<tr><td> 10242</td><td> 71   </td></tr>\n",
       "\t<tr><td> 10243</td><td>468   </td></tr>\n",
       "\t<tr><td> 10249</td><td>344   </td></tr>\n",
       "\t<tr><td> 10251</td><td>259   </td></tr>\n",
       "\t<tr><td> 10252</td><td>335   </td></tr>\n",
       "\t<tr><td> 10260</td><td>582   </td></tr>\n",
       "\t<tr><td> 10261</td><td>324   </td></tr>\n",
       "\t<tr><td> 10264</td><td>398   </td></tr>\n",
       "\t<tr><td> 10265</td><td>332   </td></tr>\n",
       "\t<tr><td> 10267</td><td>484   </td></tr>\n",
       "\t<tr><td> 10268</td><td> 65   </td></tr>\n",
       "\t<tr><td> 10269</td><td>415   </td></tr>\n",
       "\t<tr><td> 10278</td><td> 36   </td></tr>\n",
       "\t<tr><td> 10281</td><td>170   </td></tr>\n",
       "\t<tr><td>108893</td><td> 21   </td></tr>\n",
       "\t<tr><td>158085</td><td>101   </td></tr>\n",
       "\t<tr><td>177361</td><td> 33   </td></tr>\n",
       "\t<tr><td>188163</td><td> 34   </td></tr>\n",
       "\t<tr><td>208931</td><td> 37   </td></tr>\n",
       "\t<tr><td>274581</td><td> 71   </td></tr>\n",
       "</tbody>\n",
       "</table>\n"
      ],
      "text/latex": [
       "\\begin{tabular}{r|ll}\n",
       " team\\_api\\_id & maxNumOfGoals\\\\\n",
       "\\hline\n",
       "\t 1601 & 280 \\\\\n",
       "\t 1773 & 126 \\\\\n",
       "\t 1957 & 287 \\\\\n",
       "\t 2033 & 138 \\\\\n",
       "\t 2182 & 372 \\\\\n",
       "\t 2183 & 184 \\\\\n",
       "\t 2186 & 235 \\\\\n",
       "\t 4049 &  35 \\\\\n",
       "\t 4064 &  27 \\\\\n",
       "\t 4087 & 180 \\\\\n",
       "\t 4170 &  31 \\\\\n",
       "\t 6269 &  34 \\\\\n",
       "\t 6351 &  28 \\\\\n",
       "\t 6367 &  27 \\\\\n",
       "\t 6391 &  37 \\\\\n",
       "\t 6403 & 292 \\\\\n",
       "\t 6413 & 204 \\\\\n",
       "\t 6421 &  55 \\\\\n",
       "\t 6433 &  74 \\\\\n",
       "\t 6493 & 128 \\\\\n",
       "\t 6547 &  29 \\\\\n",
       "\t 6601 &  38 \\\\\n",
       "\t 6631 &  24 \\\\\n",
       "\t 7730 &  99 \\\\\n",
       "\t 7788 & 119 \\\\\n",
       "\t 7794 & 165 \\\\\n",
       "\t 7819 & 220 \\\\\n",
       "\t 7841 & 248 \\\\\n",
       "\t 7842 & 167 \\\\\n",
       "\t 7844 & 300 \\\\\n",
       "\t ... & ...\\\\\n",
       "\t  10214 & 332   \\\\\n",
       "\t  10215 & 240   \\\\\n",
       "\t  10217 & 366   \\\\\n",
       "\t  10218 & 154   \\\\\n",
       "\t  10219 & 153   \\\\\n",
       "\t  10228 & 470   \\\\\n",
       "\t  10229 & 492   \\\\\n",
       "\t  10233 & 392   \\\\\n",
       "\t  10235 & 489   \\\\\n",
       "\t  10238 & 238   \\\\\n",
       "\t  10242 &  71   \\\\\n",
       "\t  10243 & 468   \\\\\n",
       "\t  10249 & 344   \\\\\n",
       "\t  10251 & 259   \\\\\n",
       "\t  10252 & 335   \\\\\n",
       "\t  10260 & 582   \\\\\n",
       "\t  10261 & 324   \\\\\n",
       "\t  10264 & 398   \\\\\n",
       "\t  10265 & 332   \\\\\n",
       "\t  10267 & 484   \\\\\n",
       "\t  10268 &  65   \\\\\n",
       "\t  10269 & 415   \\\\\n",
       "\t  10278 &  36   \\\\\n",
       "\t  10281 & 170   \\\\\n",
       "\t 108893 &  21   \\\\\n",
       "\t 158085 & 101   \\\\\n",
       "\t 177361 &  33   \\\\\n",
       "\t 188163 &  34   \\\\\n",
       "\t 208931 &  37   \\\\\n",
       "\t 274581 &  71   \\\\\n",
       "\\end{tabular}\n"
      ],
      "text/markdown": [
       "\n",
       "team_api_id | maxNumOfGoals | \n",
       "|---|---|---|---|---|---|---|---|---|---|---|---|---|---|---|---|---|---|---|---|---|---|---|---|---|---|---|---|---|---|---|---|---|---|---|---|---|---|---|---|---|---|---|---|---|---|---|---|---|---|---|---|---|---|---|---|---|---|---|---|---|\n",
       "| 1601 | 280  | \n",
       "| 1773 | 126  | \n",
       "| 1957 | 287  | \n",
       "| 2033 | 138  | \n",
       "| 2182 | 372  | \n",
       "| 2183 | 184  | \n",
       "| 2186 | 235  | \n",
       "| 4049 |  35  | \n",
       "| 4064 |  27  | \n",
       "| 4087 | 180  | \n",
       "| 4170 |  31  | \n",
       "| 6269 |  34  | \n",
       "| 6351 |  28  | \n",
       "| 6367 |  27  | \n",
       "| 6391 |  37  | \n",
       "| 6403 | 292  | \n",
       "| 6413 | 204  | \n",
       "| 6421 |  55  | \n",
       "| 6433 |  74  | \n",
       "| 6493 | 128  | \n",
       "| 6547 |  29  | \n",
       "| 6601 |  38  | \n",
       "| 6631 |  24  | \n",
       "| 7730 |  99  | \n",
       "| 7788 | 119  | \n",
       "| 7794 | 165  | \n",
       "| 7819 | 220  | \n",
       "| 7841 | 248  | \n",
       "| 7842 | 167  | \n",
       "| 7844 | 300  | \n",
       "| ... | ... | \n",
       "|  10214 | 332    | \n",
       "|  10215 | 240    | \n",
       "|  10217 | 366    | \n",
       "|  10218 | 154    | \n",
       "|  10219 | 153    | \n",
       "|  10228 | 470    | \n",
       "|  10229 | 492    | \n",
       "|  10233 | 392    | \n",
       "|  10235 | 489    | \n",
       "|  10238 | 238    | \n",
       "|  10242 |  71    | \n",
       "|  10243 | 468    | \n",
       "|  10249 | 344    | \n",
       "|  10251 | 259    | \n",
       "|  10252 | 335    | \n",
       "|  10260 | 582    | \n",
       "|  10261 | 324    | \n",
       "|  10264 | 398    | \n",
       "|  10265 | 332    | \n",
       "|  10267 | 484    | \n",
       "|  10268 |  65    | \n",
       "|  10269 | 415    | \n",
       "|  10278 |  36    | \n",
       "|  10281 | 170    | \n",
       "| 108893 |  21    | \n",
       "| 158085 | 101    | \n",
       "| 177361 |  33    | \n",
       "| 188163 |  34    | \n",
       "| 208931 |  37    | \n",
       "| 274581 |  71    | \n",
       "\n",
       "\n"
      ],
      "text/plain": [
       "    team_api_id maxNumOfGoals\n",
       "1   1601        280          \n",
       "2   1773        126          \n",
       "3   1957        287          \n",
       "4   2033        138          \n",
       "5   2182        372          \n",
       "6   2183        184          \n",
       "7   2186        235          \n",
       "8   4049         35          \n",
       "9   4064         27          \n",
       "10  4087        180          \n",
       "11  4170         31          \n",
       "12  6269         34          \n",
       "13  6351         28          \n",
       "14  6367         27          \n",
       "15  6391         37          \n",
       "16  6403        292          \n",
       "17  6413        204          \n",
       "18  6421         55          \n",
       "19  6433         74          \n",
       "20  6493        128          \n",
       "21  6547         29          \n",
       "22  6601         38          \n",
       "23  6631         24          \n",
       "24  7730         99          \n",
       "25  7788        119          \n",
       "26  7794        165          \n",
       "27  7819        220          \n",
       "28  7841        248          \n",
       "29  7842        167          \n",
       "30  7844        300          \n",
       "... ...         ...          \n",
       "270  10214      332          \n",
       "271  10215      240          \n",
       "272  10217      366          \n",
       "273  10218      154          \n",
       "274  10219      153          \n",
       "275  10228      470          \n",
       "276  10229      492          \n",
       "277  10233      392          \n",
       "278  10235      489          \n",
       "279  10238      238          \n",
       "280  10242       71          \n",
       "281  10243      468          \n",
       "282  10249      344          \n",
       "283  10251      259          \n",
       "284  10252      335          \n",
       "285  10260      582          \n",
       "286  10261      324          \n",
       "287  10264      398          \n",
       "288  10265      332          \n",
       "289  10267      484          \n",
       "290  10268       65          \n",
       "291  10269      415          \n",
       "292  10278       36          \n",
       "293  10281      170          \n",
       "294 108893       21          \n",
       "295 158085      101          \n",
       "296 177361       33          \n",
       "297 188163       34          \n",
       "298 208931       37          \n",
       "299 274581       71          "
      ]
     },
     "metadata": {},
     "output_type": "display_data"
    }
   ],
   "source": [
    "homeTeamGoalTable <- select(match_table, home_team_api_id, home_team_goal)\n",
    "awayTeamGoalTable <- select(match_table, away_team_api_id, away_team_goal)\n",
    "goalTable <- union_all(homeTeamGoalTable, awayTeamGoalTable)\n",
    "goalTable <- group_by(goalTable, home_team_api_id)\n",
    "goalTable <- summarize(goalTable, maxNumOfGoals = sum(home_team_goal))\n",
    "goalTable <- select(goalTable, team_api_id = home_team_api_id, maxNumOfGoals)\n",
    "collect(goalTable)"
   ]
  },
  {
   "cell_type": "code",
   "execution_count": 340,
   "metadata": {
    "collapsed": false
   },
   "outputs": [
    {
     "name": "stderr",
     "output_type": "stream",
     "text": [
      "Joining, by = \"team_api_id\"\n"
     ]
    },
    {
     "data": {
      "text/html": [
       "<table>\n",
       "<thead><tr><th scope=col>team_api_id</th><th scope=col>maxBuildUpPlay</th><th scope=col>maxChanceCreation</th><th scope=col>maxDefense</th><th scope=col>id</th><th scope=col>team_fifa_api_id</th><th scope=col>team_long_name</th><th scope=col>team_short_name</th><th scope=col>maxNumOfGoals</th></tr></thead>\n",
       "<tbody>\n",
       "\t<tr><td>1601                    </td><td>139                     </td><td>186                     </td><td>175                     </td><td>31446                   </td><td>   874                  </td><td>Ruch Chorzów            </td><td>CHO                     </td><td>280                     </td></tr>\n",
       "\t<tr><td>1773                    </td><td>153                     </td><td>157                     </td><td>137                     </td><td> 1513                   </td><td>100087                  </td><td>Oud-Heverlee Leuven     </td><td>O-H                     </td><td>126                     </td></tr>\n",
       "\t<tr><td>1957                    </td><td>158                     </td><td>163                     </td><td>210                     </td><td>31456                   </td><td>110745                  </td><td>Jagiellonia Bialystok   </td><td>BIA                     </td><td>287                     </td></tr>\n",
       "\t<tr><td>2033                    </td><td>147                     </td><td>165                     </td><td>155                     </td><td>35774                   </td><td>111540                  </td><td>S.C. Olhanense          </td><td>OLH                     </td><td>138                     </td></tr>\n",
       "\t<tr><td>2182                    </td><td>176                     </td><td>196                     </td><td>160                     </td><td>31453                   </td><td>   873                  </td><td>Lech Poznan             </td><td>POZ                     </td><td>372                     </td></tr>\n",
       "\t<tr><td>2183                    </td><td> NA                     </td><td>180                     </td><td>175                     </td><td>31448                   </td><td>  1570                  </td><td>P. Warszawa             </td><td>PWA                     </td><td>184                     </td></tr>\n",
       "\t<tr><td>2186                    </td><td>125                     </td><td>168                     </td><td>205                     </td><td>31458                   </td><td>110747                  </td><td>Cracovia                </td><td>CKR                     </td><td>235                     </td></tr>\n",
       "\t<tr><td>4087                    </td><td>156                     </td><td>180                     </td><td>165                     </td><td>11822                   </td><td>111271                  </td><td>Évian Thonon Gaillard FC</td><td>ETG                     </td><td>180                     </td></tr>\n",
       "\t<tr><td>4170                    </td><td> NA                     </td><td>165                     </td><td>200                     </td><td>10312                   </td><td>111376                  </td><td>US Boulogne Cote D'Opale</td><td>BOU                     </td><td> 31                     </td></tr>\n",
       "\t<tr><td>6269                    </td><td>179                     </td><td>172                     </td><td>151                     </td><td>22805                   </td><td>112225                  </td><td>Novara                  </td><td>NOV                     </td><td> 34                     </td></tr>\n",
       "\t<tr><td>6351                    </td><td> NA                     </td><td>160                     </td><td>155                     </td><td> 1042                   </td><td>  2013                  </td><td>KAS Eupen               </td><td>EUP                     </td><td> 28                     </td></tr>\n",
       "\t<tr><td>6391                    </td><td>153                     </td><td>179                     </td><td>146                     </td><td>14876                   </td><td>110316                  </td><td>GFC Ajaccio             </td><td>GAJ                     </td><td> 37                     </td></tr>\n",
       "\t<tr><td>6403                    </td><td>142                     </td><td>170                     </td><td>150                     </td><td>35289                   </td><td>  1892                  </td><td>FC Paços de Ferreira    </td><td>FER                     </td><td>292                     </td></tr>\n",
       "\t<tr><td>6413                    </td><td>137                     </td><td>165                     </td><td>181                     </td><td>29000                   </td><td>  1914                  </td><td>PEC Zwolle              </td><td>ZWO                     </td><td>204                     </td></tr>\n",
       "\t<tr><td>6421                    </td><td> NA                     </td><td>165                     </td><td> 90                     </td><td>35295                   </td><td> 10018                  </td><td>Leixões SC              </td><td>LEI                     </td><td> 55                     </td></tr>\n",
       "\t<tr><td>6433                    </td><td>160                     </td><td>132                     </td><td>141                     </td><td>29624                   </td><td>100632                  </td><td>Go Ahead Eagles         </td><td>GAE                     </td><td> 74                     </td></tr>\n",
       "\t<tr><td>6493                    </td><td> NA                     </td><td>175                     </td><td>150                     </td><td>49116                   </td><td>  1714                  </td><td>AC Bellinzona           </td><td>BEL                     </td><td>128                     </td></tr>\n",
       "\t<tr><td>6547                    </td><td>147                     </td><td>146                     </td><td>121                     </td><td>38173                   </td><td>100741                  </td><td>FC Penafiel             </td><td>PEN                     </td><td> 29                     </td></tr>\n",
       "\t<tr><td>6631                    </td><td>134                     </td><td>176                     </td><td>164                     </td><td>30222                   </td><td>100626                  </td><td>FC Dordrecht            </td><td>DOR                     </td><td> 24                     </td></tr>\n",
       "\t<tr><td>7730                    </td><td>141                     </td><td>164                     </td><td>165                     </td><td>50204                   </td><td>  1862                  </td><td>FC Lausanne-Sports      </td><td>LAU                     </td><td> 99                     </td></tr>\n",
       "\t<tr><td>7788                    </td><td>136                     </td><td>159                     </td><td>138                     </td><td>29617                   </td><td>   647                  </td><td>SC Cambuur              </td><td>CAM                     </td><td>119                     </td></tr>\n",
       "\t<tr><td>7794                    </td><td>174                     </td><td>156                     </td><td>210                     </td><td>12594                   </td><td>    58                  </td><td>SC Bastia               </td><td>BAS                     </td><td>165                     </td></tr>\n",
       "\t<tr><td>7819                    </td><td>157                     </td><td>165                     </td><td>205                     </td><td> 9540                   </td><td>   210                  </td><td>SM Caen                 </td><td>CAE                     </td><td>220                     </td></tr>\n",
       "\t<tr><td>7841                    </td><td>157                     </td><td>180                     </td><td>153                     </td><td>35293                   </td><td>   744                  </td><td>Rio Ave FC              </td><td>RA                      </td><td>248                     </td></tr>\n",
       "\t<tr><td>7842                    </td><td>174                     </td><td>139                     </td><td>150                     </td><td>37214                   </td><td> 10020                  </td><td>Estoril Praia           </td><td>EST                     </td><td>167                     </td></tr>\n",
       "\t<tr><td>7844                    </td><td>131                     </td><td>179                     </td><td>177                     </td><td>35287                   </td><td>  1887                  </td><td>Vitória Guimarães       </td><td>GUI                     </td><td>300                     </td></tr>\n",
       "\t<tr><td>7869                    </td><td>146                     </td><td>171                     </td><td>129                     </td><td>47612                   </td><td>  1867                  </td><td>Córdoba CF              </td><td>COR                     </td><td> 22                     </td></tr>\n",
       "\t<tr><td>7878                    </td><td>166                     </td><td>200                     </td><td>170                     </td><td>45330                   </td><td>110832                  </td><td>Granada CF              </td><td>GRA                     </td><td>179                     </td></tr>\n",
       "\t<tr><td>7943                    </td><td>188                     </td><td>186                     </td><td>138                     </td><td>24288                   </td><td>111974                  </td><td>Sassuolo                </td><td>SAS                     </td><td>141                     </td></tr>\n",
       "\t<tr><td>7955                    </td><td> NA                     </td><td>190                     </td><td>150                     </td><td>49123                   </td><td>   435                  </td><td>Neuchâtel Xamax         </td><td>XAM                     </td><td>171                     </td></tr>\n",
       "\t<tr><td>...</td><td>...</td><td>...</td><td>...</td><td>...</td><td>...</td><td>...</td><td>...</td><td>...</td></tr>\n",
       "\t<tr><td> 10211                 </td><td> NA                    </td><td>165                    </td><td>155                    </td><td>36253                  </td><td>  1897                 </td><td>SC Beira Mar           </td><td>B-M                    </td><td> 93                    </td></tr>\n",
       "\t<tr><td> 10212                 </td><td>182                    </td><td>186                    </td><td>144                    </td><td>35298                  </td><td>  1893                 </td><td>CS Marítimo            </td><td>MAR                    </td><td>316                    </td></tr>\n",
       "\t<tr><td> 10214                 </td><td>167                    </td><td>165                    </td><td>156                    </td><td>35296                  </td><td>  1891                 </td><td>CD Nacional            </td><td>NAC                    </td><td>332                    </td></tr>\n",
       "\t<tr><td> 10215                 </td><td>150                    </td><td>172                    </td><td>151                    </td><td>35292                  </td><td>  1901                 </td><td>Académica de Coimbra   </td><td>ACA                    </td><td>240                    </td></tr>\n",
       "\t<tr><td> 10217                 </td><td>162                    </td><td>181                    </td><td>173                    </td><td>26560                  </td><td>   650                 </td><td>ADO Den Haag           </td><td>HAA                    </td><td>366                    </td></tr>\n",
       "\t<tr><td> 10218                 </td><td>163                    </td><td>162                    </td><td>106                    </td><td>27780                  </td><td>  1971                 </td><td>Excelsior              </td><td>EXC                    </td><td>154                    </td></tr>\n",
       "\t<tr><td> 10219                 </td><td>142                    </td><td>159                    </td><td>150                    </td><td>27161                  </td><td>  1905                 </td><td>RKC Waalwijk           </td><td>RKC                    </td><td>153                    </td></tr>\n",
       "\t<tr><td> 10228                 </td><td>150                    </td><td>171                    </td><td>183                    </td><td>26562                  </td><td>  1913                 </td><td>SC Heerenveen          </td><td>HEE                    </td><td>470                    </td></tr>\n",
       "\t<tr><td> 10229                 </td><td>154                    </td><td>185                    </td><td>184                    </td><td>26563                  </td><td>  1906                 </td><td>AZ                     </td><td>ALK                    </td><td>492                    </td></tr>\n",
       "\t<tr><td> 10233                 </td><td>184                    </td><td>182                    </td><td>154                    </td><td>20518                  </td><td>110556                 </td><td>Genoa                  </td><td>GEN                    </td><td>392                    </td></tr>\n",
       "\t<tr><td> 10235                 </td><td>154                    </td><td>165                    </td><td>160                    </td><td>26558                  </td><td>   246                 </td><td>Feyenoord              </td><td>FEY                    </td><td>489                    </td></tr>\n",
       "\t<tr><td> 10238                 </td><td>149                    </td><td>165                    </td><td>140                    </td><td>35288                  </td><td>   665                 </td><td>Vitória Setúbal        </td><td>SET                    </td><td>238                    </td></tr>\n",
       "\t<tr><td> 10242                 </td><td>148                    </td><td>150                    </td><td>140                    </td><td>12595                  </td><td>   294                 </td><td>ES Troyes AC           </td><td>TRO                    </td><td> 71                    </td></tr>\n",
       "\t<tr><td> 10243                 </td><td>157                    </td><td>165                    </td><td>163                    </td><td>49124                  </td><td>   894                 </td><td>FC Zürich              </td><td>ZUR                    </td><td>468                    </td></tr>\n",
       "\t<tr><td> 10249                 </td><td>162                    </td><td>160                    </td><td>210                    </td><td>10309                  </td><td>    70                 </td><td>Montpellier Hérault SC </td><td>MON                    </td><td>344                    </td></tr>\n",
       "\t<tr><td> 10251                 </td><td>148                    </td><td>200                    </td><td>200                    </td><td>39392                  </td><td>    81                 </td><td>Hibernian              </td><td>HIB                    </td><td>259                    </td></tr>\n",
       "\t<tr><td> 10252                 </td><td>170                    </td><td>185                    </td><td>145                    </td><td> 3465                  </td><td>     2                 </td><td>Aston Villa            </td><td>AVL                    </td><td>335                    </td></tr>\n",
       "\t<tr><td> 10260                 </td><td>134                    </td><td>200                    </td><td>163                    </td><td> 3457                  </td><td>    11                 </td><td>Manchester United      </td><td>MUN                    </td><td>582                    </td></tr>\n",
       "\t<tr><td> 10261                 </td><td>152                    </td><td>195                    </td><td>161                    </td><td> 3458                  </td><td>    13                 </td><td>Newcastle United       </td><td>NEW                    </td><td>324                    </td></tr>\n",
       "\t<tr><td> 10264                 </td><td>145                    </td><td>166                    </td><td>150                    </td><td>35290                  </td><td>  1896                 </td><td>SC Braga               </td><td>BRA                    </td><td>398                    </td></tr>\n",
       "\t<tr><td> 10265                 </td><td>135                    </td><td>183                    </td><td>205                    </td><td>31443                  </td><td>  1873                 </td><td>Wisla Kraków           </td><td>WIS                    </td><td>332                    </td></tr>\n",
       "\t<tr><td> 10267                 </td><td>116                    </td><td>185                    </td><td>175                    </td><td>43035                  </td><td>   461                 </td><td>Valencia CF            </td><td>VAL                    </td><td>484                    </td></tr>\n",
       "\t<tr><td> 10268                 </td><td>171                    </td><td>165                    </td><td>158                    </td><td>46848                  </td><td>   468                 </td><td>Elche CF               </td><td>ELC                    </td><td> 65                    </td></tr>\n",
       "\t<tr><td> 10269                 </td><td>168                    </td><td>200                    </td><td>175                    </td><td>15632                  </td><td>    36                 </td><td>VfB Stuttgart          </td><td>STU                    </td><td>415                    </td></tr>\n",
       "\t<tr><td> 10278                 </td><td>154                    </td><td>178                    </td><td>160                    </td><td>44557                  </td><td>100879                 </td><td>Hércules Club de Fútbol</td><td>HER                    </td><td> 36                    </td></tr>\n",
       "\t<tr><td> 10281                 </td><td>153                    </td><td>172                    </td><td>161                    </td><td>43050                  </td><td>   462                 </td><td>Real Valladolid        </td><td>VAL                    </td><td>170                    </td></tr>\n",
       "\t<tr><td>108893                 </td><td>156                    </td><td>141                    </td><td>158                    </td><td>11074                  </td><td>111989                 </td><td>AC Arles-Avignon       </td><td>ARL                    </td><td> 21                    </td></tr>\n",
       "\t<tr><td>158085                 </td><td>174                    </td><td>160                    </td><td>113                    </td><td>37696                  </td><td>112513                 </td><td>FC Arouca              </td><td>ARO                    </td><td>101                    </td></tr>\n",
       "\t<tr><td>208931                 </td><td>190                    </td><td>160                    </td><td>141                    </td><td>25804                  </td><td>112409                 </td><td>Carpi                  </td><td>CAP                    </td><td> 37                    </td></tr>\n",
       "\t<tr><td>274581                 </td><td>150                    </td><td>150                    </td><td>140                    </td><td> 2510                  </td><td>111560                 </td><td>Royal Excel Mouscron   </td><td>MOP                    </td><td> 71                    </td></tr>\n",
       "</tbody>\n",
       "</table>\n"
      ],
      "text/latex": [
       "\\begin{tabular}{r|lllllllll}\n",
       " team\\_api\\_id & maxBuildUpPlay & maxChanceCreation & maxDefense & id & team\\_fifa\\_api\\_id & team\\_long\\_name & team\\_short\\_name & maxNumOfGoals\\\\\n",
       "\\hline\n",
       "\t 1601                     & 139                      & 186                      & 175                      & 31446                    &    874                   & Ruch Chorzów             & CHO                      & 280                     \\\\\n",
       "\t 1773                     & 153                      & 157                      & 137                      &  1513                    & 100087                   & Oud-Heverlee Leuven      & O-H                      & 126                     \\\\\n",
       "\t 1957                     & 158                      & 163                      & 210                      & 31456                    & 110745                   & Jagiellonia Bialystok    & BIA                      & 287                     \\\\\n",
       "\t 2033                     & 147                      & 165                      & 155                      & 35774                    & 111540                   & S.C. Olhanense           & OLH                      & 138                     \\\\\n",
       "\t 2182                     & 176                      & 196                      & 160                      & 31453                    &    873                   & Lech Poznan              & POZ                      & 372                     \\\\\n",
       "\t 2183                     &  NA                      & 180                      & 175                      & 31448                    &   1570                   & P. Warszawa              & PWA                      & 184                     \\\\\n",
       "\t 2186                     & 125                      & 168                      & 205                      & 31458                    & 110747                   & Cracovia                 & CKR                      & 235                     \\\\\n",
       "\t 4087                     & 156                      & 180                      & 165                      & 11822                    & 111271                   & Évian Thonon Gaillard FC & ETG                      & 180                     \\\\\n",
       "\t 4170                     &  NA                      & 165                      & 200                      & 10312                    & 111376                   & US Boulogne Cote D'Opale & BOU                      &  31                     \\\\\n",
       "\t 6269                     & 179                      & 172                      & 151                      & 22805                    & 112225                   & Novara                   & NOV                      &  34                     \\\\\n",
       "\t 6351                     &  NA                      & 160                      & 155                      &  1042                    &   2013                   & KAS Eupen                & EUP                      &  28                     \\\\\n",
       "\t 6391                     & 153                      & 179                      & 146                      & 14876                    & 110316                   & GFC Ajaccio              & GAJ                      &  37                     \\\\\n",
       "\t 6403                     & 142                      & 170                      & 150                      & 35289                    &   1892                   & FC Paços de Ferreira     & FER                      & 292                     \\\\\n",
       "\t 6413                     & 137                      & 165                      & 181                      & 29000                    &   1914                   & PEC Zwolle               & ZWO                      & 204                     \\\\\n",
       "\t 6421                     &  NA                      & 165                      &  90                      & 35295                    &  10018                   & Leixões SC               & LEI                      &  55                     \\\\\n",
       "\t 6433                     & 160                      & 132                      & 141                      & 29624                    & 100632                   & Go Ahead Eagles          & GAE                      &  74                     \\\\\n",
       "\t 6493                     &  NA                      & 175                      & 150                      & 49116                    &   1714                   & AC Bellinzona            & BEL                      & 128                     \\\\\n",
       "\t 6547                     & 147                      & 146                      & 121                      & 38173                    & 100741                   & FC Penafiel              & PEN                      &  29                     \\\\\n",
       "\t 6631                     & 134                      & 176                      & 164                      & 30222                    & 100626                   & FC Dordrecht             & DOR                      &  24                     \\\\\n",
       "\t 7730                     & 141                      & 164                      & 165                      & 50204                    &   1862                   & FC Lausanne-Sports       & LAU                      &  99                     \\\\\n",
       "\t 7788                     & 136                      & 159                      & 138                      & 29617                    &    647                   & SC Cambuur               & CAM                      & 119                     \\\\\n",
       "\t 7794                     & 174                      & 156                      & 210                      & 12594                    &     58                   & SC Bastia                & BAS                      & 165                     \\\\\n",
       "\t 7819                     & 157                      & 165                      & 205                      &  9540                    &    210                   & SM Caen                  & CAE                      & 220                     \\\\\n",
       "\t 7841                     & 157                      & 180                      & 153                      & 35293                    &    744                   & Rio Ave FC               & RA                       & 248                     \\\\\n",
       "\t 7842                     & 174                      & 139                      & 150                      & 37214                    &  10020                   & Estoril Praia            & EST                      & 167                     \\\\\n",
       "\t 7844                     & 131                      & 179                      & 177                      & 35287                    &   1887                   & Vitória Guimarães        & GUI                      & 300                     \\\\\n",
       "\t 7869                     & 146                      & 171                      & 129                      & 47612                    &   1867                   & Córdoba CF               & COR                      &  22                     \\\\\n",
       "\t 7878                     & 166                      & 200                      & 170                      & 45330                    & 110832                   & Granada CF               & GRA                      & 179                     \\\\\n",
       "\t 7943                     & 188                      & 186                      & 138                      & 24288                    & 111974                   & Sassuolo                 & SAS                      & 141                     \\\\\n",
       "\t 7955                     &  NA                      & 190                      & 150                      & 49123                    &    435                   & Neuchâtel Xamax          & XAM                      & 171                     \\\\\n",
       "\t ... & ... & ... & ... & ... & ... & ... & ... & ...\\\\\n",
       "\t  10211                  &  NA                     & 165                     & 155                     & 36253                   &   1897                  & SC Beira Mar            & B-M                     &  93                    \\\\\n",
       "\t  10212                  & 182                     & 186                     & 144                     & 35298                   &   1893                  & CS Marítimo             & MAR                     & 316                    \\\\\n",
       "\t  10214                  & 167                     & 165                     & 156                     & 35296                   &   1891                  & CD Nacional             & NAC                     & 332                    \\\\\n",
       "\t  10215                  & 150                     & 172                     & 151                     & 35292                   &   1901                  & Académica de Coimbra    & ACA                     & 240                    \\\\\n",
       "\t  10217                  & 162                     & 181                     & 173                     & 26560                   &    650                  & ADO Den Haag            & HAA                     & 366                    \\\\\n",
       "\t  10218                  & 163                     & 162                     & 106                     & 27780                   &   1971                  & Excelsior               & EXC                     & 154                    \\\\\n",
       "\t  10219                  & 142                     & 159                     & 150                     & 27161                   &   1905                  & RKC Waalwijk            & RKC                     & 153                    \\\\\n",
       "\t  10228                  & 150                     & 171                     & 183                     & 26562                   &   1913                  & SC Heerenveen           & HEE                     & 470                    \\\\\n",
       "\t  10229                  & 154                     & 185                     & 184                     & 26563                   &   1906                  & AZ                      & ALK                     & 492                    \\\\\n",
       "\t  10233                  & 184                     & 182                     & 154                     & 20518                   & 110556                  & Genoa                   & GEN                     & 392                    \\\\\n",
       "\t  10235                  & 154                     & 165                     & 160                     & 26558                   &    246                  & Feyenoord               & FEY                     & 489                    \\\\\n",
       "\t  10238                  & 149                     & 165                     & 140                     & 35288                   &    665                  & Vitória Setúbal         & SET                     & 238                    \\\\\n",
       "\t  10242                  & 148                     & 150                     & 140                     & 12595                   &    294                  & ES Troyes AC            & TRO                     &  71                    \\\\\n",
       "\t  10243                  & 157                     & 165                     & 163                     & 49124                   &    894                  & FC Zürich               & ZUR                     & 468                    \\\\\n",
       "\t  10249                  & 162                     & 160                     & 210                     & 10309                   &     70                  & Montpellier Hérault SC  & MON                     & 344                    \\\\\n",
       "\t  10251                  & 148                     & 200                     & 200                     & 39392                   &     81                  & Hibernian               & HIB                     & 259                    \\\\\n",
       "\t  10252                  & 170                     & 185                     & 145                     &  3465                   &      2                  & Aston Villa             & AVL                     & 335                    \\\\\n",
       "\t  10260                  & 134                     & 200                     & 163                     &  3457                   &     11                  & Manchester United       & MUN                     & 582                    \\\\\n",
       "\t  10261                  & 152                     & 195                     & 161                     &  3458                   &     13                  & Newcastle United        & NEW                     & 324                    \\\\\n",
       "\t  10264                  & 145                     & 166                     & 150                     & 35290                   &   1896                  & SC Braga                & BRA                     & 398                    \\\\\n",
       "\t  10265                  & 135                     & 183                     & 205                     & 31443                   &   1873                  & Wisla Kraków            & WIS                     & 332                    \\\\\n",
       "\t  10267                  & 116                     & 185                     & 175                     & 43035                   &    461                  & Valencia CF             & VAL                     & 484                    \\\\\n",
       "\t  10268                  & 171                     & 165                     & 158                     & 46848                   &    468                  & Elche CF                & ELC                     &  65                    \\\\\n",
       "\t  10269                  & 168                     & 200                     & 175                     & 15632                   &     36                  & VfB Stuttgart           & STU                     & 415                    \\\\\n",
       "\t  10278                  & 154                     & 178                     & 160                     & 44557                   & 100879                  & Hércules Club de Fútbol & HER                     &  36                    \\\\\n",
       "\t  10281                  & 153                     & 172                     & 161                     & 43050                   &    462                  & Real Valladolid         & VAL                     & 170                    \\\\\n",
       "\t 108893                  & 156                     & 141                     & 158                     & 11074                   & 111989                  & AC Arles-Avignon        & ARL                     &  21                    \\\\\n",
       "\t 158085                  & 174                     & 160                     & 113                     & 37696                   & 112513                  & FC Arouca               & ARO                     & 101                    \\\\\n",
       "\t 208931                  & 190                     & 160                     & 141                     & 25804                   & 112409                  & Carpi                   & CAP                     &  37                    \\\\\n",
       "\t 274581                  & 150                     & 150                     & 140                     &  2510                   & 111560                  & Royal Excel Mouscron    & MOP                     &  71                    \\\\\n",
       "\\end{tabular}\n"
      ],
      "text/markdown": [
       "\n",
       "team_api_id | maxBuildUpPlay | maxChanceCreation | maxDefense | id | team_fifa_api_id | team_long_name | team_short_name | maxNumOfGoals | \n",
       "|---|---|---|---|---|---|---|---|---|---|---|---|---|---|---|---|---|---|---|---|---|---|---|---|---|---|---|---|---|---|---|---|---|---|---|---|---|---|---|---|---|---|---|---|---|---|---|---|---|---|---|---|---|---|---|---|---|---|---|---|---|\n",
       "| 1601                     | 139                      | 186                      | 175                      | 31446                    |    874                   | Ruch Chorzów             | CHO                      | 280                      | \n",
       "| 1773                     | 153                      | 157                      | 137                      |  1513                    | 100087                   | Oud-Heverlee Leuven      | O-H                      | 126                      | \n",
       "| 1957                     | 158                      | 163                      | 210                      | 31456                    | 110745                   | Jagiellonia Bialystok    | BIA                      | 287                      | \n",
       "| 2033                     | 147                      | 165                      | 155                      | 35774                    | 111540                   | S.C. Olhanense           | OLH                      | 138                      | \n",
       "| 2182                     | 176                      | 196                      | 160                      | 31453                    |    873                   | Lech Poznan              | POZ                      | 372                      | \n",
       "| 2183                     |  NA                      | 180                      | 175                      | 31448                    |   1570                   | P. Warszawa              | PWA                      | 184                      | \n",
       "| 2186                     | 125                      | 168                      | 205                      | 31458                    | 110747                   | Cracovia                 | CKR                      | 235                      | \n",
       "| 4087                     | 156                      | 180                      | 165                      | 11822                    | 111271                   | Évian Thonon Gaillard FC | ETG                      | 180                      | \n",
       "| 4170                     |  NA                      | 165                      | 200                      | 10312                    | 111376                   | US Boulogne Cote D'Opale | BOU                      |  31                      | \n",
       "| 6269                     | 179                      | 172                      | 151                      | 22805                    | 112225                   | Novara                   | NOV                      |  34                      | \n",
       "| 6351                     |  NA                      | 160                      | 155                      |  1042                    |   2013                   | KAS Eupen                | EUP                      |  28                      | \n",
       "| 6391                     | 153                      | 179                      | 146                      | 14876                    | 110316                   | GFC Ajaccio              | GAJ                      |  37                      | \n",
       "| 6403                     | 142                      | 170                      | 150                      | 35289                    |   1892                   | FC Paços de Ferreira     | FER                      | 292                      | \n",
       "| 6413                     | 137                      | 165                      | 181                      | 29000                    |   1914                   | PEC Zwolle               | ZWO                      | 204                      | \n",
       "| 6421                     |  NA                      | 165                      |  90                      | 35295                    |  10018                   | Leixões SC               | LEI                      |  55                      | \n",
       "| 6433                     | 160                      | 132                      | 141                      | 29624                    | 100632                   | Go Ahead Eagles          | GAE                      |  74                      | \n",
       "| 6493                     |  NA                      | 175                      | 150                      | 49116                    |   1714                   | AC Bellinzona            | BEL                      | 128                      | \n",
       "| 6547                     | 147                      | 146                      | 121                      | 38173                    | 100741                   | FC Penafiel              | PEN                      |  29                      | \n",
       "| 6631                     | 134                      | 176                      | 164                      | 30222                    | 100626                   | FC Dordrecht             | DOR                      |  24                      | \n",
       "| 7730                     | 141                      | 164                      | 165                      | 50204                    |   1862                   | FC Lausanne-Sports       | LAU                      |  99                      | \n",
       "| 7788                     | 136                      | 159                      | 138                      | 29617                    |    647                   | SC Cambuur               | CAM                      | 119                      | \n",
       "| 7794                     | 174                      | 156                      | 210                      | 12594                    |     58                   | SC Bastia                | BAS                      | 165                      | \n",
       "| 7819                     | 157                      | 165                      | 205                      |  9540                    |    210                   | SM Caen                  | CAE                      | 220                      | \n",
       "| 7841                     | 157                      | 180                      | 153                      | 35293                    |    744                   | Rio Ave FC               | RA                       | 248                      | \n",
       "| 7842                     | 174                      | 139                      | 150                      | 37214                    |  10020                   | Estoril Praia            | EST                      | 167                      | \n",
       "| 7844                     | 131                      | 179                      | 177                      | 35287                    |   1887                   | Vitória Guimarães        | GUI                      | 300                      | \n",
       "| 7869                     | 146                      | 171                      | 129                      | 47612                    |   1867                   | Córdoba CF               | COR                      |  22                      | \n",
       "| 7878                     | 166                      | 200                      | 170                      | 45330                    | 110832                   | Granada CF               | GRA                      | 179                      | \n",
       "| 7943                     | 188                      | 186                      | 138                      | 24288                    | 111974                   | Sassuolo                 | SAS                      | 141                      | \n",
       "| 7955                     |  NA                      | 190                      | 150                      | 49123                    |    435                   | Neuchâtel Xamax          | XAM                      | 171                      | \n",
       "| ... | ... | ... | ... | ... | ... | ... | ... | ... | \n",
       "|  10211                  |  NA                     | 165                     | 155                     | 36253                   |   1897                  | SC Beira Mar            | B-M                     |  93                     | \n",
       "|  10212                  | 182                     | 186                     | 144                     | 35298                   |   1893                  | CS Marítimo             | MAR                     | 316                     | \n",
       "|  10214                  | 167                     | 165                     | 156                     | 35296                   |   1891                  | CD Nacional             | NAC                     | 332                     | \n",
       "|  10215                  | 150                     | 172                     | 151                     | 35292                   |   1901                  | Académica de Coimbra    | ACA                     | 240                     | \n",
       "|  10217                  | 162                     | 181                     | 173                     | 26560                   |    650                  | ADO Den Haag            | HAA                     | 366                     | \n",
       "|  10218                  | 163                     | 162                     | 106                     | 27780                   |   1971                  | Excelsior               | EXC                     | 154                     | \n",
       "|  10219                  | 142                     | 159                     | 150                     | 27161                   |   1905                  | RKC Waalwijk            | RKC                     | 153                     | \n",
       "|  10228                  | 150                     | 171                     | 183                     | 26562                   |   1913                  | SC Heerenveen           | HEE                     | 470                     | \n",
       "|  10229                  | 154                     | 185                     | 184                     | 26563                   |   1906                  | AZ                      | ALK                     | 492                     | \n",
       "|  10233                  | 184                     | 182                     | 154                     | 20518                   | 110556                  | Genoa                   | GEN                     | 392                     | \n",
       "|  10235                  | 154                     | 165                     | 160                     | 26558                   |    246                  | Feyenoord               | FEY                     | 489                     | \n",
       "|  10238                  | 149                     | 165                     | 140                     | 35288                   |    665                  | Vitória Setúbal         | SET                     | 238                     | \n",
       "|  10242                  | 148                     | 150                     | 140                     | 12595                   |    294                  | ES Troyes AC            | TRO                     |  71                     | \n",
       "|  10243                  | 157                     | 165                     | 163                     | 49124                   |    894                  | FC Zürich               | ZUR                     | 468                     | \n",
       "|  10249                  | 162                     | 160                     | 210                     | 10309                   |     70                  | Montpellier Hérault SC  | MON                     | 344                     | \n",
       "|  10251                  | 148                     | 200                     | 200                     | 39392                   |     81                  | Hibernian               | HIB                     | 259                     | \n",
       "|  10252                  | 170                     | 185                     | 145                     |  3465                   |      2                  | Aston Villa             | AVL                     | 335                     | \n",
       "|  10260                  | 134                     | 200                     | 163                     |  3457                   |     11                  | Manchester United       | MUN                     | 582                     | \n",
       "|  10261                  | 152                     | 195                     | 161                     |  3458                   |     13                  | Newcastle United        | NEW                     | 324                     | \n",
       "|  10264                  | 145                     | 166                     | 150                     | 35290                   |   1896                  | SC Braga                | BRA                     | 398                     | \n",
       "|  10265                  | 135                     | 183                     | 205                     | 31443                   |   1873                  | Wisla Kraków            | WIS                     | 332                     | \n",
       "|  10267                  | 116                     | 185                     | 175                     | 43035                   |    461                  | Valencia CF             | VAL                     | 484                     | \n",
       "|  10268                  | 171                     | 165                     | 158                     | 46848                   |    468                  | Elche CF                | ELC                     |  65                     | \n",
       "|  10269                  | 168                     | 200                     | 175                     | 15632                   |     36                  | VfB Stuttgart           | STU                     | 415                     | \n",
       "|  10278                  | 154                     | 178                     | 160                     | 44557                   | 100879                  | Hércules Club de Fútbol | HER                     |  36                     | \n",
       "|  10281                  | 153                     | 172                     | 161                     | 43050                   |    462                  | Real Valladolid         | VAL                     | 170                     | \n",
       "| 108893                  | 156                     | 141                     | 158                     | 11074                   | 111989                  | AC Arles-Avignon        | ARL                     |  21                     | \n",
       "| 158085                  | 174                     | 160                     | 113                     | 37696                   | 112513                  | FC Arouca               | ARO                     | 101                     | \n",
       "| 208931                  | 190                     | 160                     | 141                     | 25804                   | 112409                  | Carpi                   | CAP                     |  37                     | \n",
       "| 274581                  | 150                     | 150                     | 140                     |  2510                   | 111560                  | Royal Excel Mouscron    | MOP                     |  71                     | \n",
       "\n",
       "\n"
      ],
      "text/plain": [
       "    team_api_id maxBuildUpPlay maxChanceCreation maxDefense id   \n",
       "1   1601        139            186               175        31446\n",
       "2   1773        153            157               137         1513\n",
       "3   1957        158            163               210        31456\n",
       "4   2033        147            165               155        35774\n",
       "5   2182        176            196               160        31453\n",
       "6   2183         NA            180               175        31448\n",
       "7   2186        125            168               205        31458\n",
       "8   4087        156            180               165        11822\n",
       "9   4170         NA            165               200        10312\n",
       "10  6269        179            172               151        22805\n",
       "11  6351         NA            160               155         1042\n",
       "12  6391        153            179               146        14876\n",
       "13  6403        142            170               150        35289\n",
       "14  6413        137            165               181        29000\n",
       "15  6421         NA            165                90        35295\n",
       "16  6433        160            132               141        29624\n",
       "17  6493         NA            175               150        49116\n",
       "18  6547        147            146               121        38173\n",
       "19  6631        134            176               164        30222\n",
       "20  7730        141            164               165        50204\n",
       "21  7788        136            159               138        29617\n",
       "22  7794        174            156               210        12594\n",
       "23  7819        157            165               205         9540\n",
       "24  7841        157            180               153        35293\n",
       "25  7842        174            139               150        37214\n",
       "26  7844        131            179               177        35287\n",
       "27  7869        146            171               129        47612\n",
       "28  7878        166            200               170        45330\n",
       "29  7943        188            186               138        24288\n",
       "30  7955         NA            190               150        49123\n",
       "... ...         ...            ...               ...        ...  \n",
       "259  10211       NA            165               155        36253\n",
       "260  10212      182            186               144        35298\n",
       "261  10214      167            165               156        35296\n",
       "262  10215      150            172               151        35292\n",
       "263  10217      162            181               173        26560\n",
       "264  10218      163            162               106        27780\n",
       "265  10219      142            159               150        27161\n",
       "266  10228      150            171               183        26562\n",
       "267  10229      154            185               184        26563\n",
       "268  10233      184            182               154        20518\n",
       "269  10235      154            165               160        26558\n",
       "270  10238      149            165               140        35288\n",
       "271  10242      148            150               140        12595\n",
       "272  10243      157            165               163        49124\n",
       "273  10249      162            160               210        10309\n",
       "274  10251      148            200               200        39392\n",
       "275  10252      170            185               145         3465\n",
       "276  10260      134            200               163         3457\n",
       "277  10261      152            195               161         3458\n",
       "278  10264      145            166               150        35290\n",
       "279  10265      135            183               205        31443\n",
       "280  10267      116            185               175        43035\n",
       "281  10268      171            165               158        46848\n",
       "282  10269      168            200               175        15632\n",
       "283  10278      154            178               160        44557\n",
       "284  10281      153            172               161        43050\n",
       "285 108893      156            141               158        11074\n",
       "286 158085      174            160               113        37696\n",
       "287 208931      190            160               141        25804\n",
       "288 274581      150            150               140         2510\n",
       "    team_fifa_api_id team_long_name           team_short_name maxNumOfGoals\n",
       "1      874           Ruch Chorzów             CHO             280          \n",
       "2   100087           Oud-Heverlee Leuven      O-H             126          \n",
       "3   110745           Jagiellonia Bialystok    BIA             287          \n",
       "4   111540           S.C. Olhanense           OLH             138          \n",
       "5      873           Lech Poznan              POZ             372          \n",
       "6     1570           P. Warszawa              PWA             184          \n",
       "7   110747           Cracovia                 CKR             235          \n",
       "8   111271           Évian Thonon Gaillard FC ETG             180          \n",
       "9   111376           US Boulogne Cote D'Opale BOU              31          \n",
       "10  112225           Novara                   NOV              34          \n",
       "11    2013           KAS Eupen                EUP              28          \n",
       "12  110316           GFC Ajaccio              GAJ              37          \n",
       "13    1892           FC Paços de Ferreira     FER             292          \n",
       "14    1914           PEC Zwolle               ZWO             204          \n",
       "15   10018           Leixões SC               LEI              55          \n",
       "16  100632           Go Ahead Eagles          GAE              74          \n",
       "17    1714           AC Bellinzona            BEL             128          \n",
       "18  100741           FC Penafiel              PEN              29          \n",
       "19  100626           FC Dordrecht             DOR              24          \n",
       "20    1862           FC Lausanne-Sports       LAU              99          \n",
       "21     647           SC Cambuur               CAM             119          \n",
       "22      58           SC Bastia                BAS             165          \n",
       "23     210           SM Caen                  CAE             220          \n",
       "24     744           Rio Ave FC               RA              248          \n",
       "25   10020           Estoril Praia            EST             167          \n",
       "26    1887           Vitória Guimarães        GUI             300          \n",
       "27    1867           Córdoba CF               COR              22          \n",
       "28  110832           Granada CF               GRA             179          \n",
       "29  111974           Sassuolo                 SAS             141          \n",
       "30     435           Neuchâtel Xamax          XAM             171          \n",
       "... ...              ...                      ...             ...          \n",
       "259   1897           SC Beira Mar             B-M              93          \n",
       "260   1893           CS Marítimo              MAR             316          \n",
       "261   1891           CD Nacional              NAC             332          \n",
       "262   1901           Académica de Coimbra     ACA             240          \n",
       "263    650           ADO Den Haag             HAA             366          \n",
       "264   1971           Excelsior                EXC             154          \n",
       "265   1905           RKC Waalwijk             RKC             153          \n",
       "266   1913           SC Heerenveen            HEE             470          \n",
       "267   1906           AZ                       ALK             492          \n",
       "268 110556           Genoa                    GEN             392          \n",
       "269    246           Feyenoord                FEY             489          \n",
       "270    665           Vitória Setúbal          SET             238          \n",
       "271    294           ES Troyes AC             TRO              71          \n",
       "272    894           FC Zürich                ZUR             468          \n",
       "273     70           Montpellier Hérault SC   MON             344          \n",
       "274     81           Hibernian                HIB             259          \n",
       "275      2           Aston Villa              AVL             335          \n",
       "276     11           Manchester United        MUN             582          \n",
       "277     13           Newcastle United         NEW             324          \n",
       "278   1896           SC Braga                 BRA             398          \n",
       "279   1873           Wisla Kraków             WIS             332          \n",
       "280    461           Valencia CF              VAL             484          \n",
       "281    468           Elche CF                 ELC              65          \n",
       "282     36           VfB Stuttgart            STU             415          \n",
       "283 100879           Hércules Club de Fútbol  HER              36          \n",
       "284    462           Real Valladolid          VAL             170          \n",
       "285 111989           AC Arles-Avignon         ARL              21          \n",
       "286 112513           FC Arouca                ARO             101          \n",
       "287 112409           Carpi                    CAP              37          \n",
       "288 111560           Royal Excel Mouscron     MOP              71          "
      ]
     },
     "metadata": {},
     "output_type": "display_data"
    }
   ],
   "source": [
    "finalTeamTable <- inner_join(innerJoinTeam, goalTable)\n",
    "collect(finalTeamTable)"
   ]
  },
  {
   "cell_type": "code",
   "execution_count": 341,
   "metadata": {
    "collapsed": true
   },
   "outputs": [],
   "source": [
    "write.csv(data.frame(finalTeamTable), \"team.csv\")"
   ]
  }
 ],
 "metadata": {
  "kernelspec": {
   "display_name": "R",
   "language": "R",
   "name": "ir"
  },
  "language_info": {
   "codemirror_mode": "r",
   "file_extension": ".r",
   "mimetype": "text/x-r-source",
   "name": "R",
   "pygments_lexer": "r",
   "version": "3.3.2"
  }
 },
 "nbformat": 4,
 "nbformat_minor": 2
}
