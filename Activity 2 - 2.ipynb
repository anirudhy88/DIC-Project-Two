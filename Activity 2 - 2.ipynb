{
 "cells": [
  {
   "cell_type": "markdown",
   "metadata": {},
   "source": [
    "Notebook to execute the queries"
   ]
  },
  {
   "cell_type": "code",
   "execution_count": 7,
   "metadata": {
    "collapsed": false
   },
   "outputs": [],
   "source": [
    "library(dplyr)"
   ]
  },
  {
   "cell_type": "code",
   "execution_count": 8,
   "metadata": {
    "collapsed": true
   },
   "outputs": [],
   "source": [
    "playerTable <- read.csv(\"player.csv\")"
   ]
  },
  {
   "cell_type": "markdown",
   "metadata": {},
   "source": [
    "The top_n has been found from dplyr official doc. It returns n rows from a particular table based on the variable mentioned. But as we need exact 10 rows and that too in descending order, I used arrange function and data frame logic 1:10."
   ]
  },
  {
   "cell_type": "code",
   "execution_count": 21,
   "metadata": {
    "collapsed": false
   },
   "outputs": [
    {
     "data": {
      "text/html": [
       "<table>\n",
       "<thead><tr><th scope=col>player_name</th><th scope=col>overall_rating</th></tr></thead>\n",
       "<tbody>\n",
       "\t<tr><td>Lionel Messi     </td><td>94               </td></tr>\n",
       "\t<tr><td>Gianluigi Buffon </td><td>93               </td></tr>\n",
       "\t<tr><td>Wayne Rooney     </td><td>93               </td></tr>\n",
       "\t<tr><td>Cristiano Ronaldo</td><td>93               </td></tr>\n",
       "\t<tr><td>Xavi Hernandez   </td><td>92               </td></tr>\n",
       "\t<tr><td>Gregory Coupet   </td><td>92               </td></tr>\n",
       "\t<tr><td>Thierry Henry    </td><td>91               </td></tr>\n",
       "\t<tr><td>John Terry       </td><td>91               </td></tr>\n",
       "\t<tr><td>Iker Casillas    </td><td>91               </td></tr>\n",
       "\t<tr><td>Alessandro Nesta </td><td>91               </td></tr>\n",
       "</tbody>\n",
       "</table>\n"
      ],
      "text/latex": [
       "\\begin{tabular}{r|ll}\n",
       " player\\_name & overall\\_rating\\\\\n",
       "\\hline\n",
       "\t Lionel Messi      & 94               \\\\\n",
       "\t Gianluigi Buffon  & 93               \\\\\n",
       "\t Wayne Rooney      & 93               \\\\\n",
       "\t Cristiano Ronaldo & 93               \\\\\n",
       "\t Xavi Hernandez    & 92               \\\\\n",
       "\t Gregory Coupet    & 92               \\\\\n",
       "\t Thierry Henry     & 91               \\\\\n",
       "\t John Terry        & 91               \\\\\n",
       "\t Iker Casillas     & 91               \\\\\n",
       "\t Alessandro Nesta  & 91               \\\\\n",
       "\\end{tabular}\n"
      ],
      "text/markdown": [
       "\n",
       "player_name | overall_rating | \n",
       "|---|---|---|---|---|---|---|---|---|---|\n",
       "| Lionel Messi      | 94                | \n",
       "| Gianluigi Buffon  | 93                | \n",
       "| Wayne Rooney      | 93                | \n",
       "| Cristiano Ronaldo | 93                | \n",
       "| Xavi Hernandez    | 92                | \n",
       "| Gregory Coupet    | 92                | \n",
       "| Thierry Henry     | 91                | \n",
       "| John Terry        | 91                | \n",
       "| Iker Casillas     | 91                | \n",
       "| Alessandro Nesta  | 91                | \n",
       "\n",
       "\n"
      ],
      "text/plain": [
       "   player_name       overall_rating\n",
       "1  Lionel Messi      94            \n",
       "2  Gianluigi Buffon  93            \n",
       "3  Wayne Rooney      93            \n",
       "4  Cristiano Ronaldo 93            \n",
       "5  Xavi Hernandez    92            \n",
       "6  Gregory Coupet    92            \n",
       "7  Thierry Henry     91            \n",
       "8  John Terry        91            \n",
       "9  Iker Casillas     91            \n",
       "10 Alessandro Nesta  91            "
      ]
     },
     "metadata": {},
     "output_type": "display_data"
    }
   ],
   "source": [
    "queOne <- top_n(playerTable, 10, overall_rating)\n",
    "queOne <- arrange(queOne, desc(overall_rating))\n",
    "queOne <- queOne[1:10,c(\"player_name\",\"overall_rating\")]\n",
    "queOne"
   ]
  },
  {
   "cell_type": "code",
   "execution_count": 23,
   "metadata": {
    "collapsed": false
   },
   "outputs": [
    {
     "data": {
      "text/html": [
       "<table>\n",
       "<thead><tr><th scope=col>player_name</th><th scope=col>max_gk_rating</th></tr></thead>\n",
       "<tbody>\n",
       "\t<tr><td>Gianluigi Buffon </td><td>449              </td></tr>\n",
       "\t<tr><td>Gregory Coupet   </td><td>447              </td></tr>\n",
       "\t<tr><td>Petr Cech        </td><td>445              </td></tr>\n",
       "\t<tr><td>Iker Casillas    </td><td>442              </td></tr>\n",
       "\t<tr><td>Manuel Neuer     </td><td>440              </td></tr>\n",
       "\t<tr><td>Julio Cesar      </td><td>438              </td></tr>\n",
       "\t<tr><td>Sebastian Frey   </td><td>437              </td></tr>\n",
       "\t<tr><td>Edwin van der Sar</td><td>436              </td></tr>\n",
       "\t<tr><td>David De Gea     </td><td>429              </td></tr>\n",
       "\t<tr><td>Pepe Reina       </td><td>428              </td></tr>\n",
       "</tbody>\n",
       "</table>\n"
      ],
      "text/latex": [
       "\\begin{tabular}{r|ll}\n",
       " player\\_name & max\\_gk\\_rating\\\\\n",
       "\\hline\n",
       "\t Gianluigi Buffon  & 449              \\\\\n",
       "\t Gregory Coupet    & 447              \\\\\n",
       "\t Petr Cech         & 445              \\\\\n",
       "\t Iker Casillas     & 442              \\\\\n",
       "\t Manuel Neuer      & 440              \\\\\n",
       "\t Julio Cesar       & 438              \\\\\n",
       "\t Sebastian Frey    & 437              \\\\\n",
       "\t Edwin van der Sar & 436              \\\\\n",
       "\t David De Gea      & 429              \\\\\n",
       "\t Pepe Reina        & 428              \\\\\n",
       "\\end{tabular}\n"
      ],
      "text/markdown": [
       "\n",
       "player_name | max_gk_rating | \n",
       "|---|---|---|---|---|---|---|---|---|---|\n",
       "| Gianluigi Buffon  | 449               | \n",
       "| Gregory Coupet    | 447               | \n",
       "| Petr Cech         | 445               | \n",
       "| Iker Casillas     | 442               | \n",
       "| Manuel Neuer      | 440               | \n",
       "| Julio Cesar       | 438               | \n",
       "| Sebastian Frey    | 437               | \n",
       "| Edwin van der Sar | 436               | \n",
       "| David De Gea      | 429               | \n",
       "| Pepe Reina        | 428               | \n",
       "\n",
       "\n"
      ],
      "text/plain": [
       "   player_name       max_gk_rating\n",
       "1  Gianluigi Buffon  449          \n",
       "2  Gregory Coupet    447          \n",
       "3  Petr Cech         445          \n",
       "4  Iker Casillas     442          \n",
       "5  Manuel Neuer      440          \n",
       "6  Julio Cesar       438          \n",
       "7  Sebastian Frey    437          \n",
       "8  Edwin van der Sar 436          \n",
       "9  David De Gea      429          \n",
       "10 Pepe Reina        428          "
      ]
     },
     "metadata": {},
     "output_type": "display_data"
    }
   ],
   "source": [
    "queTwo <- top_n(playerTable, 10, max_gk_rating)\n",
    "queTwo <- arrange(queTwo, desc(max_gk_rating))\n",
    "queTwo <- queTwo[1:10,c(\"player_name\",\"max_gk_rating\")]\n",
    "queTwo"
   ]
  },
  {
   "cell_type": "code",
   "execution_count": 24,
   "metadata": {
    "collapsed": false
   },
   "outputs": [
    {
     "data": {
      "text/html": [
       "<table>\n",
       "<thead><tr><th scope=col>player_name</th><th scope=col>totalNumOfMatches</th></tr></thead>\n",
       "<tbody>\n",
       "\t<tr><td>Steve Mandanda      </td><td>300                 </td></tr>\n",
       "\t<tr><td>Stephane Ruffier    </td><td>294                 </td></tr>\n",
       "\t<tr><td>Gorka Iraizoz Moreno</td><td>286                 </td></tr>\n",
       "\t<tr><td>Samir Handanovic    </td><td>286                 </td></tr>\n",
       "\t<tr><td>Hugo Lloris         </td><td>282                 </td></tr>\n",
       "\t<tr><td>Tim Howard          </td><td>282                 </td></tr>\n",
       "\t<tr><td>Joe Hart            </td><td>275                 </td></tr>\n",
       "\t<tr><td>Cedric Carrasso     </td><td>268                 </td></tr>\n",
       "\t<tr><td>Daniel Congre       </td><td>262                 </td></tr>\n",
       "\t<tr><td>Moussa Sissoko      </td><td>260                 </td></tr>\n",
       "</tbody>\n",
       "</table>\n"
      ],
      "text/latex": [
       "\\begin{tabular}{r|ll}\n",
       " player\\_name & totalNumOfMatches\\\\\n",
       "\\hline\n",
       "\t Steve Mandanda       & 300                 \\\\\n",
       "\t Stephane Ruffier     & 294                 \\\\\n",
       "\t Gorka Iraizoz Moreno & 286                 \\\\\n",
       "\t Samir Handanovic     & 286                 \\\\\n",
       "\t Hugo Lloris          & 282                 \\\\\n",
       "\t Tim Howard           & 282                 \\\\\n",
       "\t Joe Hart             & 275                 \\\\\n",
       "\t Cedric Carrasso      & 268                 \\\\\n",
       "\t Daniel Congre        & 262                 \\\\\n",
       "\t Moussa Sissoko       & 260                 \\\\\n",
       "\\end{tabular}\n"
      ],
      "text/markdown": [
       "\n",
       "player_name | totalNumOfMatches | \n",
       "|---|---|---|---|---|---|---|---|---|---|\n",
       "| Steve Mandanda       | 300                  | \n",
       "| Stephane Ruffier     | 294                  | \n",
       "| Gorka Iraizoz Moreno | 286                  | \n",
       "| Samir Handanovic     | 286                  | \n",
       "| Hugo Lloris          | 282                  | \n",
       "| Tim Howard           | 282                  | \n",
       "| Joe Hart             | 275                  | \n",
       "| Cedric Carrasso      | 268                  | \n",
       "| Daniel Congre        | 262                  | \n",
       "| Moussa Sissoko       | 260                  | \n",
       "\n",
       "\n"
      ],
      "text/plain": [
       "   player_name          totalNumOfMatches\n",
       "1  Steve Mandanda       300              \n",
       "2  Stephane Ruffier     294              \n",
       "3  Gorka Iraizoz Moreno 286              \n",
       "4  Samir Handanovic     286              \n",
       "5  Hugo Lloris          282              \n",
       "6  Tim Howard           282              \n",
       "7  Joe Hart             275              \n",
       "8  Cedric Carrasso      268              \n",
       "9  Daniel Congre        262              \n",
       "10 Moussa Sissoko       260              "
      ]
     },
     "metadata": {},
     "output_type": "display_data"
    }
   ],
   "source": [
    "queThree <- top_n(playerTable, 10, totalNumOfMatches)\n",
    "queThree <- arrange(queThree, desc(totalNumOfMatches))\n",
    "queThree <- queThree[1:10,c(\"player_name\",\"totalNumOfMatches\")]\n",
    "queThree"
   ]
  },
  {
   "cell_type": "code",
   "execution_count": 25,
   "metadata": {
    "collapsed": false
   },
   "outputs": [
    {
     "data": {
      "text/html": [
       "<table>\n",
       "<thead><tr><th scope=col>player_name</th><th scope=col>totalNumOfLeagues</th></tr></thead>\n",
       "<tbody>\n",
       "\t<tr><td>Gelson Fernandes     </td><td>6                    </td></tr>\n",
       "\t<tr><td>Ricky van Wolfswinkel</td><td>5                    </td></tr>\n",
       "\t<tr><td>Filip Djuricic       </td><td>5                    </td></tr>\n",
       "\t<tr><td>Radamel Falcao       </td><td>4                    </td></tr>\n",
       "\t<tr><td>Jonathan De Guzman   </td><td>4                    </td></tr>\n",
       "\t<tr><td>Almen Abdi           </td><td>4                    </td></tr>\n",
       "\t<tr><td>Ibrahim Afellay      </td><td>4                    </td></tr>\n",
       "\t<tr><td>Edson Braafheid      </td><td>4                    </td></tr>\n",
       "\t<tr><td>Eljero Elia          </td><td>4                    </td></tr>\n",
       "\t<tr><td>Danijel Pranjic      </td><td>4                    </td></tr>\n",
       "</tbody>\n",
       "</table>\n"
      ],
      "text/latex": [
       "\\begin{tabular}{r|ll}\n",
       " player\\_name & totalNumOfLeagues\\\\\n",
       "\\hline\n",
       "\t Gelson Fernandes      & 6                    \\\\\n",
       "\t Ricky van Wolfswinkel & 5                    \\\\\n",
       "\t Filip Djuricic        & 5                    \\\\\n",
       "\t Radamel Falcao        & 4                    \\\\\n",
       "\t Jonathan De Guzman    & 4                    \\\\\n",
       "\t Almen Abdi            & 4                    \\\\\n",
       "\t Ibrahim Afellay       & 4                    \\\\\n",
       "\t Edson Braafheid       & 4                    \\\\\n",
       "\t Eljero Elia           & 4                    \\\\\n",
       "\t Danijel Pranjic       & 4                    \\\\\n",
       "\\end{tabular}\n"
      ],
      "text/markdown": [
       "\n",
       "player_name | totalNumOfLeagues | \n",
       "|---|---|---|---|---|---|---|---|---|---|\n",
       "| Gelson Fernandes      | 6                     | \n",
       "| Ricky van Wolfswinkel | 5                     | \n",
       "| Filip Djuricic        | 5                     | \n",
       "| Radamel Falcao        | 4                     | \n",
       "| Jonathan De Guzman    | 4                     | \n",
       "| Almen Abdi            | 4                     | \n",
       "| Ibrahim Afellay       | 4                     | \n",
       "| Edson Braafheid       | 4                     | \n",
       "| Eljero Elia           | 4                     | \n",
       "| Danijel Pranjic       | 4                     | \n",
       "\n",
       "\n"
      ],
      "text/plain": [
       "   player_name           totalNumOfLeagues\n",
       "1  Gelson Fernandes      6                \n",
       "2  Ricky van Wolfswinkel 5                \n",
       "3  Filip Djuricic        5                \n",
       "4  Radamel Falcao        4                \n",
       "5  Jonathan De Guzman    4                \n",
       "6  Almen Abdi            4                \n",
       "7  Ibrahim Afellay       4                \n",
       "8  Edson Braafheid       4                \n",
       "9  Eljero Elia           4                \n",
       "10 Danijel Pranjic       4                "
      ]
     },
     "metadata": {},
     "output_type": "display_data"
    }
   ],
   "source": [
    "queFour <- top_n(playerTable, 10, totalNumOfLeagues)\n",
    "queFour <- arrange(queFour, desc(totalNumOfLeagues))\n",
    "queFour <- queFour[1:10,c(\"player_name\",\"totalNumOfLeagues\")]\n",
    "queFour"
   ]
  },
  {
   "cell_type": "code",
   "execution_count": 26,
   "metadata": {
    "collapsed": true
   },
   "outputs": [],
   "source": [
    "teamTable <- read.csv(\"team.csv\")"
   ]
  },
  {
   "cell_type": "code",
   "execution_count": 27,
   "metadata": {
    "collapsed": false
   },
   "outputs": [
    {
     "data": {
      "text/html": [
       "<table>\n",
       "<thead><tr><th scope=col>team_long_name</th><th scope=col>team_short_name</th><th scope=col>maxBuildUpPlay</th></tr></thead>\n",
       "<tbody>\n",
       "\t<tr><td>Torino                    </td><td>TOR                       </td><td>209                       </td></tr>\n",
       "\t<tr><td>Udinese                   </td><td>UDI                       </td><td>205                       </td></tr>\n",
       "\t<tr><td>Fortuna Düsseldorf        </td><td>FDU                       </td><td>198                       </td></tr>\n",
       "\t<tr><td>Podbeskidzie Bielsko-Biala</td><td>POD                       </td><td>193                       </td></tr>\n",
       "\t<tr><td>Korona Kielce             </td><td>KKI                       </td><td>192                       </td></tr>\n",
       "\t<tr><td>Widzew Lódz               </td><td>WID                       </td><td>190                       </td></tr>\n",
       "\t<tr><td>Widzew Lódz               </td><td>LOD                       </td><td>190                       </td></tr>\n",
       "\t<tr><td>Carpi                     </td><td>CAP                       </td><td>190                       </td></tr>\n",
       "\t<tr><td>FC Nantes                 </td><td>NAN                       </td><td>189                       </td></tr>\n",
       "\t<tr><td>Sassuolo                  </td><td>SAS                       </td><td>188                       </td></tr>\n",
       "</tbody>\n",
       "</table>\n"
      ],
      "text/latex": [
       "\\begin{tabular}{r|lll}\n",
       " team\\_long\\_name & team\\_short\\_name & maxBuildUpPlay\\\\\n",
       "\\hline\n",
       "\t Torino                     & TOR                        & 209                       \\\\\n",
       "\t Udinese                    & UDI                        & 205                       \\\\\n",
       "\t Fortuna Düsseldorf         & FDU                        & 198                       \\\\\n",
       "\t Podbeskidzie Bielsko-Biala & POD                        & 193                       \\\\\n",
       "\t Korona Kielce              & KKI                        & 192                       \\\\\n",
       "\t Widzew Lódz                & WID                        & 190                       \\\\\n",
       "\t Widzew Lódz                & LOD                        & 190                       \\\\\n",
       "\t Carpi                      & CAP                        & 190                       \\\\\n",
       "\t FC Nantes                  & NAN                        & 189                       \\\\\n",
       "\t Sassuolo                   & SAS                        & 188                       \\\\\n",
       "\\end{tabular}\n"
      ],
      "text/markdown": [
       "\n",
       "team_long_name | team_short_name | maxBuildUpPlay | \n",
       "|---|---|---|---|---|---|---|---|---|---|\n",
       "| Torino                     | TOR                        | 209                        | \n",
       "| Udinese                    | UDI                        | 205                        | \n",
       "| Fortuna Düsseldorf         | FDU                        | 198                        | \n",
       "| Podbeskidzie Bielsko-Biala | POD                        | 193                        | \n",
       "| Korona Kielce              | KKI                        | 192                        | \n",
       "| Widzew Lódz                | WID                        | 190                        | \n",
       "| Widzew Lódz                | LOD                        | 190                        | \n",
       "| Carpi                      | CAP                        | 190                        | \n",
       "| FC Nantes                  | NAN                        | 189                        | \n",
       "| Sassuolo                   | SAS                        | 188                        | \n",
       "\n",
       "\n"
      ],
      "text/plain": [
       "   team_long_name             team_short_name maxBuildUpPlay\n",
       "1  Torino                     TOR             209           \n",
       "2  Udinese                    UDI             205           \n",
       "3  Fortuna Düsseldorf         FDU             198           \n",
       "4  Podbeskidzie Bielsko-Biala POD             193           \n",
       "5  Korona Kielce              KKI             192           \n",
       "6  Widzew Lódz                WID             190           \n",
       "7  Widzew Lódz                LOD             190           \n",
       "8  Carpi                      CAP             190           \n",
       "9  FC Nantes                  NAN             189           \n",
       "10 Sassuolo                   SAS             188           "
      ]
     },
     "metadata": {},
     "output_type": "display_data"
    }
   ],
   "source": [
    "queFive <- top_n(teamTable, 10, maxBuildUpPlay)\n",
    "queFive <- arrange(queFive, desc(maxBuildUpPlay))\n",
    "queFive <- queFive[1:10,c(\"team_long_name\",\"team_short_name\",\"maxBuildUpPlay\")]\n",
    "queFive"
   ]
  },
  {
   "cell_type": "markdown",
   "metadata": {},
   "source": [
    "Displaying both short and long name of the team for all team related questions"
   ]
  },
  {
   "cell_type": "code",
   "execution_count": 28,
   "metadata": {
    "collapsed": false
   },
   "outputs": [
    {
     "data": {
      "text/html": [
       "<table>\n",
       "<thead><tr><th scope=col>team_long_name</th><th scope=col>team_short_name</th><th scope=col>maxChanceCreation</th></tr></thead>\n",
       "<tbody>\n",
       "\t<tr><td>Lazio              </td><td>LAZ                </td><td>220                </td></tr>\n",
       "\t<tr><td>SV Werder Bremen   </td><td>WBR                </td><td>216                </td></tr>\n",
       "\t<tr><td>Napoli             </td><td>NAP                </td><td>215                </td></tr>\n",
       "\t<tr><td>Bayer 04 Leverkusen</td><td>LEV                </td><td>210                </td></tr>\n",
       "\t<tr><td>Burnley            </td><td>BUR                </td><td>210                </td></tr>\n",
       "\t<tr><td>Cardiff City       </td><td>CAR                </td><td>210                </td></tr>\n",
       "\t<tr><td>Manchester City    </td><td>MCI                </td><td>210                </td></tr>\n",
       "\t<tr><td>Aberdeen           </td><td>ABE                </td><td>210                </td></tr>\n",
       "\t<tr><td>Rangers            </td><td>RAN                </td><td>210                </td></tr>\n",
       "\t<tr><td>Tottenham Hotspur  </td><td>TOT                </td><td>210                </td></tr>\n",
       "</tbody>\n",
       "</table>\n"
      ],
      "text/latex": [
       "\\begin{tabular}{r|lll}\n",
       " team\\_long\\_name & team\\_short\\_name & maxChanceCreation\\\\\n",
       "\\hline\n",
       "\t Lazio               & LAZ                 & 220                \\\\\n",
       "\t SV Werder Bremen    & WBR                 & 216                \\\\\n",
       "\t Napoli              & NAP                 & 215                \\\\\n",
       "\t Bayer 04 Leverkusen & LEV                 & 210                \\\\\n",
       "\t Burnley             & BUR                 & 210                \\\\\n",
       "\t Cardiff City        & CAR                 & 210                \\\\\n",
       "\t Manchester City     & MCI                 & 210                \\\\\n",
       "\t Aberdeen            & ABE                 & 210                \\\\\n",
       "\t Rangers             & RAN                 & 210                \\\\\n",
       "\t Tottenham Hotspur   & TOT                 & 210                \\\\\n",
       "\\end{tabular}\n"
      ],
      "text/markdown": [
       "\n",
       "team_long_name | team_short_name | maxChanceCreation | \n",
       "|---|---|---|---|---|---|---|---|---|---|\n",
       "| Lazio               | LAZ                 | 220                 | \n",
       "| SV Werder Bremen    | WBR                 | 216                 | \n",
       "| Napoli              | NAP                 | 215                 | \n",
       "| Bayer 04 Leverkusen | LEV                 | 210                 | \n",
       "| Burnley             | BUR                 | 210                 | \n",
       "| Cardiff City        | CAR                 | 210                 | \n",
       "| Manchester City     | MCI                 | 210                 | \n",
       "| Aberdeen            | ABE                 | 210                 | \n",
       "| Rangers             | RAN                 | 210                 | \n",
       "| Tottenham Hotspur   | TOT                 | 210                 | \n",
       "\n",
       "\n"
      ],
      "text/plain": [
       "   team_long_name      team_short_name maxChanceCreation\n",
       "1  Lazio               LAZ             220              \n",
       "2  SV Werder Bremen    WBR             216              \n",
       "3  Napoli              NAP             215              \n",
       "4  Bayer 04 Leverkusen LEV             210              \n",
       "5  Burnley             BUR             210              \n",
       "6  Cardiff City        CAR             210              \n",
       "7  Manchester City     MCI             210              \n",
       "8  Aberdeen            ABE             210              \n",
       "9  Rangers             RAN             210              \n",
       "10 Tottenham Hotspur   TOT             210              "
      ]
     },
     "metadata": {},
     "output_type": "display_data"
    }
   ],
   "source": [
    "queSix <- top_n(teamTable, 10, maxChanceCreation)\n",
    "queSix <- arrange(queSix, desc(maxChanceCreation))\n",
    "queSix <- queSix[1:10,c(\"team_long_name\",\"team_short_name\",\"maxChanceCreation\")]\n",
    "queSix"
   ]
  },
  {
   "cell_type": "code",
   "execution_count": 29,
   "metadata": {
    "collapsed": false
   },
   "outputs": [
    {
     "data": {
      "text/html": [
       "<table>\n",
       "<thead><tr><th scope=col>team_long_name</th><th scope=col>team_short_name</th><th scope=col>maxDefense</th></tr></thead>\n",
       "<tbody>\n",
       "\t<tr><td>Jagiellonia Bialystok</td><td>BIA                  </td><td>210                  </td></tr>\n",
       "\t<tr><td>SC Bastia            </td><td>BAS                  </td><td>210                  </td></tr>\n",
       "\t<tr><td>Zaglebie Lubin       </td><td>ZAG                  </td><td>210                  </td></tr>\n",
       "\t<tr><td>Leicester City       </td><td>LEI                  </td><td>210                  </td></tr>\n",
       "\t<tr><td>Cardiff City         </td><td>CAR                  </td><td>210                  </td></tr>\n",
       "\t<tr><td>1. FC Kaiserslautern </td><td>KAI                  </td><td>210                  </td></tr>\n",
       "\t<tr><td>Southampton          </td><td>SOU                  </td><td>210                  </td></tr>\n",
       "\t<tr><td>AS Nancy-Lorraine    </td><td>NAN                  </td><td>210                  </td></tr>\n",
       "\t<tr><td>Blackpool            </td><td>BLA                  </td><td>210                  </td></tr>\n",
       "\t<tr><td>Stade Brestois 29    </td><td>BRE                  </td><td>210                  </td></tr>\n",
       "</tbody>\n",
       "</table>\n"
      ],
      "text/latex": [
       "\\begin{tabular}{r|lll}\n",
       " team\\_long\\_name & team\\_short\\_name & maxDefense\\\\\n",
       "\\hline\n",
       "\t Jagiellonia Bialystok & BIA                   & 210                  \\\\\n",
       "\t SC Bastia             & BAS                   & 210                  \\\\\n",
       "\t Zaglebie Lubin        & ZAG                   & 210                  \\\\\n",
       "\t Leicester City        & LEI                   & 210                  \\\\\n",
       "\t Cardiff City          & CAR                   & 210                  \\\\\n",
       "\t 1. FC Kaiserslautern  & KAI                   & 210                  \\\\\n",
       "\t Southampton           & SOU                   & 210                  \\\\\n",
       "\t AS Nancy-Lorraine     & NAN                   & 210                  \\\\\n",
       "\t Blackpool             & BLA                   & 210                  \\\\\n",
       "\t Stade Brestois 29     & BRE                   & 210                  \\\\\n",
       "\\end{tabular}\n"
      ],
      "text/markdown": [
       "\n",
       "team_long_name | team_short_name | maxDefense | \n",
       "|---|---|---|---|---|---|---|---|---|---|\n",
       "| Jagiellonia Bialystok | BIA                   | 210                   | \n",
       "| SC Bastia             | BAS                   | 210                   | \n",
       "| Zaglebie Lubin        | ZAG                   | 210                   | \n",
       "| Leicester City        | LEI                   | 210                   | \n",
       "| Cardiff City          | CAR                   | 210                   | \n",
       "| 1. FC Kaiserslautern  | KAI                   | 210                   | \n",
       "| Southampton           | SOU                   | 210                   | \n",
       "| AS Nancy-Lorraine     | NAN                   | 210                   | \n",
       "| Blackpool             | BLA                   | 210                   | \n",
       "| Stade Brestois 29     | BRE                   | 210                   | \n",
       "\n",
       "\n"
      ],
      "text/plain": [
       "   team_long_name        team_short_name maxDefense\n",
       "1  Jagiellonia Bialystok BIA             210       \n",
       "2  SC Bastia             BAS             210       \n",
       "3  Zaglebie Lubin        ZAG             210       \n",
       "4  Leicester City        LEI             210       \n",
       "5  Cardiff City          CAR             210       \n",
       "6  1. FC Kaiserslautern  KAI             210       \n",
       "7  Southampton           SOU             210       \n",
       "8  AS Nancy-Lorraine     NAN             210       \n",
       "9  Blackpool             BLA             210       \n",
       "10 Stade Brestois 29     BRE             210       "
      ]
     },
     "metadata": {},
     "output_type": "display_data"
    }
   ],
   "source": [
    "queSeven <- top_n(teamTable, 10, maxDefense)\n",
    "queSeven <- arrange(queSeven, desc(maxDefense))\n",
    "queSeven <- queSeven[1:10,c(\"team_long_name\",\"team_short_name\",\"maxDefense\")]\n",
    "queSeven"
   ]
  },
  {
   "cell_type": "code",
   "execution_count": 30,
   "metadata": {
    "collapsed": false
   },
   "outputs": [
    {
     "data": {
      "text/html": [
       "<table>\n",
       "<thead><tr><th scope=col>team_long_name</th><th scope=col>team_short_name</th><th scope=col>maxNumOfGoals</th></tr></thead>\n",
       "<tbody>\n",
       "\t<tr><td>FC Barcelona     </td><td>BAR              </td><td>849              </td></tr>\n",
       "\t<tr><td>Real Madrid CF   </td><td>REA              </td><td>843              </td></tr>\n",
       "\t<tr><td>Celtic           </td><td>CEL              </td><td>695              </td></tr>\n",
       "\t<tr><td>FC Bayern Munich </td><td>BMU              </td><td>653              </td></tr>\n",
       "\t<tr><td>PSV              </td><td>PSV              </td><td>652              </td></tr>\n",
       "\t<tr><td>Ajax             </td><td>AJA              </td><td>647              </td></tr>\n",
       "\t<tr><td>FC Basel         </td><td>BAS              </td><td>619              </td></tr>\n",
       "\t<tr><td>Manchester City  </td><td>MCI              </td><td>606              </td></tr>\n",
       "\t<tr><td>Chelsea          </td><td>CHE              </td><td>583              </td></tr>\n",
       "\t<tr><td>Manchester United</td><td>MUN              </td><td>582              </td></tr>\n",
       "</tbody>\n",
       "</table>\n"
      ],
      "text/latex": [
       "\\begin{tabular}{r|lll}\n",
       " team\\_long\\_name & team\\_short\\_name & maxNumOfGoals\\\\\n",
       "\\hline\n",
       "\t FC Barcelona      & BAR               & 849              \\\\\n",
       "\t Real Madrid CF    & REA               & 843              \\\\\n",
       "\t Celtic            & CEL               & 695              \\\\\n",
       "\t FC Bayern Munich  & BMU               & 653              \\\\\n",
       "\t PSV               & PSV               & 652              \\\\\n",
       "\t Ajax              & AJA               & 647              \\\\\n",
       "\t FC Basel          & BAS               & 619              \\\\\n",
       "\t Manchester City   & MCI               & 606              \\\\\n",
       "\t Chelsea           & CHE               & 583              \\\\\n",
       "\t Manchester United & MUN               & 582              \\\\\n",
       "\\end{tabular}\n"
      ],
      "text/markdown": [
       "\n",
       "team_long_name | team_short_name | maxNumOfGoals | \n",
       "|---|---|---|---|---|---|---|---|---|---|\n",
       "| FC Barcelona      | BAR               | 849               | \n",
       "| Real Madrid CF    | REA               | 843               | \n",
       "| Celtic            | CEL               | 695               | \n",
       "| FC Bayern Munich  | BMU               | 653               | \n",
       "| PSV               | PSV               | 652               | \n",
       "| Ajax              | AJA               | 647               | \n",
       "| FC Basel          | BAS               | 619               | \n",
       "| Manchester City   | MCI               | 606               | \n",
       "| Chelsea           | CHE               | 583               | \n",
       "| Manchester United | MUN               | 582               | \n",
       "\n",
       "\n"
      ],
      "text/plain": [
       "   team_long_name    team_short_name maxNumOfGoals\n",
       "1  FC Barcelona      BAR             849          \n",
       "2  Real Madrid CF    REA             843          \n",
       "3  Celtic            CEL             695          \n",
       "4  FC Bayern Munich  BMU             653          \n",
       "5  PSV               PSV             652          \n",
       "6  Ajax              AJA             647          \n",
       "7  FC Basel          BAS             619          \n",
       "8  Manchester City   MCI             606          \n",
       "9  Chelsea           CHE             583          \n",
       "10 Manchester United MUN             582          "
      ]
     },
     "metadata": {},
     "output_type": "display_data"
    }
   ],
   "source": [
    "queEight <- top_n(teamTable, 10, maxNumOfGoals)\n",
    "queEight <- arrange(queEight, desc(maxNumOfGoals))\n",
    "queEight <- queEight[1:10,c(\"team_long_name\",\"team_short_name\",\"maxNumOfGoals\")]\n",
    "queEight"
   ]
  }
 ],
 "metadata": {
  "kernelspec": {
   "display_name": "R",
   "language": "R",
   "name": "ir"
  },
  "language_info": {
   "codemirror_mode": "r",
   "file_extension": ".r",
   "mimetype": "text/x-r-source",
   "name": "R",
   "pygments_lexer": "r",
   "version": "3.3.2"
  }
 },
 "nbformat": 4,
 "nbformat_minor": 2
}
